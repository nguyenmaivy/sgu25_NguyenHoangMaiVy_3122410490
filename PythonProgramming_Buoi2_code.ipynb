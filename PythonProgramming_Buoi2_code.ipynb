{
  "nbformat": 4,
  "nbformat_minor": 0,
  "metadata": {
    "colab": {
      "provenance": [],
      "include_colab_link": true
    },
    "kernelspec": {
      "name": "python3",
      "display_name": "Python 3"
    },
    "language_info": {
      "name": "python"
    }
  },
  "cells": [
    {
      "cell_type": "markdown",
      "metadata": {
        "id": "view-in-github",
        "colab_type": "text"
      },
      "source": [
        "<a href=\"https://colab.research.google.com/github/nguyenmaivy/sgu25_NguyenHoangMaiVy_3122410490/blob/main/PythonProgramming_Buoi2_code.ipynb\" target=\"_parent\"><img src=\"https://colab.research.google.com/assets/colab-badge.svg\" alt=\"Open In Colab\"/></a>"
      ]
    },
    {
      "cell_type": "markdown",
      "source": [
        "## **BUỔI 2 - DEM0**"
      ],
      "metadata": {
        "id": "d1bXH1JBfZS9"
      }
    },
    {
      "cell_type": "markdown",
      "source": [
        "## ***Python Programming***"
      ],
      "metadata": {
        "id": "phBtrJzBhswq"
      }
    },
    {
      "cell_type": "code",
      "execution_count": null,
      "metadata": {
        "colab": {
          "base_uri": "https://localhost:8080/"
        },
        "id": "Tb8i3sP_fSCd",
        "outputId": "377fce5a-91a8-4290-9a43-49af8bfce088"
      },
      "outputs": [
        {
          "output_type": "stream",
          "name": "stdout",
          "text": [
            "sample_data\n"
          ]
        }
      ],
      "source": [
        "!ls"
      ]
    },
    {
      "cell_type": "code",
      "source": [
        "print(\"Hello world!\")"
      ],
      "metadata": {
        "colab": {
          "base_uri": "https://localhost:8080/"
        },
        "id": "naOZdP_lhK2r",
        "outputId": "6208e27e-9000-4996-b87f-9e21c6a1a4ca"
      },
      "execution_count": null,
      "outputs": [
        {
          "output_type": "stream",
          "name": "stdout",
          "text": [
            "Hello world!\n"
          ]
        }
      ]
    },
    {
      "cell_type": "markdown",
      "source": [
        "## ***Syntax***"
      ],
      "metadata": {
        "id": "GuEK4P4TB76O"
      }
    },
    {
      "cell_type": "code",
      "source": [
        "# comment"
      ],
      "metadata": {
        "id": "VhfQS5-aBhej"
      },
      "execution_count": null,
      "outputs": []
    },
    {
      "cell_type": "markdown",
      "source": [
        "## ***Indentation***"
      ],
      "metadata": {
        "id": "odDzHhvkCSWw"
      }
    },
    {
      "cell_type": "code",
      "source": [
        "score = 80\n",
        "if score >=60 :\n",
        "    print(\"Pass\")"
      ],
      "metadata": {
        "colab": {
          "base_uri": "https://localhost:8080/"
        },
        "id": "9msmiDirCaFM",
        "outputId": "77983f52-afa5-4253-cb8b-81948a7a9bdd"
      },
      "execution_count": null,
      "outputs": [
        {
          "output_type": "stream",
          "name": "stdout",
          "text": [
            "Pass\n"
          ]
        }
      ]
    },
    {
      "cell_type": "markdown",
      "source": [
        "## ***Varianles***"
      ],
      "metadata": {
        "id": "jZ_HKU0kCtK_"
      }
    },
    {
      "cell_type": "code",
      "source": [
        "x = 2\n",
        "print(f'x = {x}, data type = {type(x)}')\n",
        "price = 2.5\n",
        "print(f'price = {price}, data type = {type(price)}')\n",
        "world = 'Hello'\n",
        "print(f'world = {world}, data type = {type(world)}')\n",
        "world = 'Hello'\n",
        "print(f'world = {world}, data type = {type(world)}')\n",
        "world = \"Hello\"\n",
        "print(f'world = {world}, data type = {type(world)}')\n",
        "world = '''Hello'''\n",
        "print(f'world = {world}, data type = {type(world)}')"
      ],
      "metadata": {
        "colab": {
          "base_uri": "https://localhost:8080/"
        },
        "id": "B_B8_rXMC0kh",
        "outputId": "3401f121-784a-48a3-96de-8d044cb8891a"
      },
      "execution_count": null,
      "outputs": [
        {
          "output_type": "stream",
          "name": "stdout",
          "text": [
            "x = 2, data type = <class 'int'>\n",
            "price = 2.5, data type = <class 'float'>\n",
            "world = Hello, data type = <class 'str'>\n",
            "world = Hello, data type = <class 'str'>\n",
            "world = Hello, data type = <class 'str'>\n",
            "world = Hello, data type = <class 'str'>\n"
          ]
        }
      ]
    },
    {
      "cell_type": "code",
      "source": [
        " x = 2\n",
        " y = x + 1\n",
        " print(f'x = {x}, y = {y}')\n",
        "\n",
        " print(f'x = {x}, y = {x} + 1 = {y}')\n",
        " print(f'x = {x}, y = {x} + 1 = {x + 1}')"
      ],
      "metadata": {
        "colab": {
          "base_uri": "https://localhost:8080/"
        },
        "id": "JreCPU-sEJqy",
        "outputId": "a61d8fdd-4bd6-4c54-8855-87a8f6e67f8c"
      },
      "execution_count": null,
      "outputs": [
        {
          "output_type": "stream",
          "name": "stdout",
          "text": [
            "x = 2, y = 3\n",
            "x = 2, y = 2 + 1 = 3\n",
            "x = 2, y = 2 + 1 = 3\n"
          ]
        }
      ]
    },
    {
      "cell_type": "markdown",
      "source": [
        "## ***Python Version***"
      ],
      "metadata": {
        "id": "K8Dw-Hz0E80q"
      }
    },
    {
      "cell_type": "code",
      "source": [
        " # comment\n",
        " from platform import python_version\n",
        " print(\"Python Version:\", python_version())"
      ],
      "metadata": {
        "colab": {
          "base_uri": "https://localhost:8080/"
        },
        "id": "BxS-f0j0FIwB",
        "outputId": "a6424ffc-d35c-48e9-aa73-95a9f5c5873d"
      },
      "execution_count": null,
      "outputs": [
        {
          "output_type": "stream",
          "name": "stdout",
          "text": [
            "Python Version: 3.12.11\n"
          ]
        }
      ]
    },
    {
      "cell_type": "markdown",
      "source": [
        "## ***Data Types***"
      ],
      "metadata": {
        "id": "WiMb2GDlFLpR"
      }
    },
    {
      "cell_type": "code",
      "source": [
        "x = \"Hello World\" #str\n",
        "print(f'x = {x}, data type = {type(x)}')\n",
        "\n",
        "x = 2             #int\n",
        "print(f'x = {x}, data type = {type(x)}')\n",
        "\n",
        "x = 2.5           #float\n",
        "print(f'x = {x}, data type = {type(x)}')\n",
        "\n",
        "x = 7j            #complex\n",
        "print(f'x = {x}, data type = {type(x)}')"
      ],
      "metadata": {
        "colab": {
          "base_uri": "https://localhost:8080/"
        },
        "id": "nD3bils_FO72",
        "outputId": "1a8bb1a7-50a8-404f-db86-88e24df51468"
      },
      "execution_count": null,
      "outputs": [
        {
          "output_type": "stream",
          "name": "stdout",
          "text": [
            "x = Hello World, data type = <class 'str'>\n",
            "x = 2, data type = <class 'int'>\n",
            "x = 2.5, data type = <class 'float'>\n",
            "x = 7j, data type = <class 'complex'>\n"
          ]
        }
      ]
    },
    {
      "cell_type": "code",
      "source": [
        "\n",
        "# data structure\n",
        "x = [\"apple\", \"banana\", \"cherry\"] #list\n",
        "print(f'x = {x}, data type = {type(x)}')\n",
        "\n",
        "x = (\"apple\", \"banana\", \"cherry\") #tuple\n",
        "print(f'x = {x}, data type = {type(x)}')\n",
        "\n",
        "x = range(6) #range\n",
        "print(f'x = {x}, ,data type = {type(x)}')\n",
        "\n",
        "x = {\"name\": \"Tom\", \"age\": 20} #dict\n",
        "print(f'x = {x}, data type = {type(x)}')\n",
        "\n",
        "x = {\"apple\", \"banana\", \"cherry\"} #set\n",
        "print(f'x = {x}, data type = {type(x)}')\n",
        "\n",
        "x = frozenset({\"apple\", \"banana\", \"cherry\"}) #frozenset\n",
        "print(f'x = {x}, data type = {type(x)}')\n"
      ],
      "metadata": {
        "colab": {
          "base_uri": "https://localhost:8080/"
        },
        "id": "30OIG3KkHAWC",
        "outputId": "bb202faf-7fe9-4097-e664-17df47f79a10"
      },
      "execution_count": null,
      "outputs": [
        {
          "output_type": "stream",
          "name": "stdout",
          "text": [
            "x = ['apple', 'banana', 'cherry'], data type = <class 'list'>\n",
            "x = ('apple', 'banana', 'cherry'), data type = <class 'tuple'>\n",
            "x = range(0, 6), ,data type = <class 'range'>\n",
            "x = {'name': 'Tom', 'age': 20}, data type = <class 'dict'>\n",
            "x = {'cherry', 'banana', 'apple'}, data type = <class 'set'>\n",
            "x = frozenset({'cherry', 'banana', 'apple'}), data type = <class 'frozenset'>\n"
          ]
        }
      ]
    },
    {
      "cell_type": "code",
      "metadata": {
        "colab": {
          "base_uri": "https://localhost:8080/"
        },
        "id": "7fef5ba9",
        "outputId": "8c78dee7-4e25-408e-b115-9c0f15953629"
      },
      "source": [
        "x = True #bool\n",
        "print(f'x = {x}, data type = {type(x)}')\n",
        "\n",
        "x = b\"Hello\" #bytes\n",
        "print(f'x = {x}, data type = {type(x)}')\n",
        "\n",
        "x = bytearray(5) #bytearray\n",
        "print(f'x = {x}, data type = {type(x)}')\n",
        "\n",
        "x = memoryview(bytes(5)) #memoryview\n",
        "print(f'x = {x}, data type = {type(x)}')\n",
        "\n",
        "x = None #NoneType\n",
        "print(f'x = {x}, data type = {type(x)}')"
      ],
      "execution_count": null,
      "outputs": [
        {
          "output_type": "stream",
          "name": "stdout",
          "text": [
            "x = True, data type = <class 'bool'>\n",
            "x = b'Hello', data type = <class 'bytes'>\n",
            "x = bytearray(b'\\x00\\x00\\x00\\x00\\x00'), data type = <class 'bytearray'>\n",
            "x = <memory at 0x7aee1340ad40>, data type = <class 'memoryview'>\n",
            "x = None, data type = <class 'NoneType'>\n"
          ]
        }
      ]
    },
    {
      "cell_type": "markdown",
      "source": [
        "## ***Casting***"
      ],
      "metadata": {
        "id": "TYSzEHlnJlWX"
      }
    },
    {
      "cell_type": "code",
      "source": [
        " x = str(3) # x will be '3'\n",
        " y = int(3) # y will be 3\n",
        " z = float(3) # z will be 3.0\n",
        " print(x, type(x))\n",
        " print(y, type(y))\n",
        " print(z, type(z))"
      ],
      "metadata": {
        "colab": {
          "base_uri": "https://localhost:8080/"
        },
        "id": "pzk0sYouJrek",
        "outputId": "1fb89cf0-7f2f-4b08-b2e1-a59f6294ed94"
      },
      "execution_count": null,
      "outputs": [
        {
          "output_type": "stream",
          "name": "stdout",
          "text": [
            "3 <class 'str'>\n",
            "3 <class 'int'>\n",
            "3.0 <class 'float'>\n"
          ]
        }
      ]
    },
    {
      "cell_type": "markdown",
      "source": [
        "## ***Numbers***"
      ],
      "metadata": {
        "id": "tJp0eysMJyCq"
      }
    },
    {
      "cell_type": "code",
      "source": [
        " x = 2      # int\n",
        " y = 3.4    # float\n",
        " z = 7j     #complex\n",
        " print(x, type(x))\n",
        " print(y, type(y))\n",
        " print(z, type(z))"
      ],
      "metadata": {
        "colab": {
          "base_uri": "https://localhost:8080/"
        },
        "id": "DMBIzcFwJ4to",
        "outputId": "e251a70f-389b-4f9e-b1e6-80095b3df9de"
      },
      "execution_count": null,
      "outputs": [
        {
          "output_type": "stream",
          "name": "stdout",
          "text": [
            "2 <class 'int'>\n",
            "3.4 <class 'float'>\n",
            "7j <class 'complex'>\n"
          ]
        }
      ]
    },
    {
      "cell_type": "code",
      "source": [
        "for a, b in [(2,5), (5,2), (5,5)]:\n",
        "    print(\"-\"*50)\n",
        "    print(f\"a < b: ({a} < {b}): {a < b}\")\n",
        "    print(f\"a > b: ({a} > {b}): {a > b}\")\n",
        "    print(f\"a <= b: ({a} <= {b}): {not (b < a)}\")\n",
        "    print(f\"a >= b: ({a} >= {b}): {not (a < b)}\")\n",
        "    print(f\"a == b: ({a} == {b}): {not ((a < b) or (b < a))}\")\n",
        "    print(f\"a != b: ({a} != {b}): {(a < b) or (b < a)}\")\n"
      ],
      "metadata": {
        "colab": {
          "base_uri": "https://localhost:8080/"
        },
        "id": "o_a11g4AKlbm",
        "outputId": "516e2930-4d43-4739-cd1d-9422f26b2858"
      },
      "execution_count": null,
      "outputs": [
        {
          "output_type": "stream",
          "name": "stdout",
          "text": [
            "--------------------------------------------------\n",
            "a < b: (2 < 5): True\n",
            "a > b: (2 > 5): False\n",
            "a <= b: (2 <= 5): True\n",
            "a >= b: (2 >= 5): False\n",
            "a == b: (2 == 5): False\n",
            "a != b: (2 != 5): True\n",
            "--------------------------------------------------\n",
            "a < b: (5 < 2): False\n",
            "a > b: (5 > 2): True\n",
            "a <= b: (5 <= 2): False\n",
            "a >= b: (5 >= 2): True\n",
            "a == b: (5 == 2): False\n",
            "a != b: (5 != 2): True\n",
            "--------------------------------------------------\n",
            "a < b: (5 < 5): False\n",
            "a > b: (5 > 5): False\n",
            "a <= b: (5 <= 5): True\n",
            "a >= b: (5 >= 5): True\n",
            "a == b: (5 == 5): True\n",
            "a != b: (5 != 5): False\n"
          ]
        }
      ]
    },
    {
      "cell_type": "markdown",
      "source": [
        "## ***Arithmectic Operators***"
      ],
      "metadata": {
        "id": "gIxvuHJ8KBhO"
      }
    },
    {
      "cell_type": "code",
      "source": [
        "# Operator Name Example\n",
        "a = 7\n",
        "b = 2\n",
        "print(f\"+ Addition: ({a} + {b}) = {a + b}\")\n",
        "print(f\"- Subtraction: ({a} - {b}) = {a - b}\")\n",
        "print(f\"* Multiplication: ({a} * {b}) = {a * b}\")\n",
        "print(f\"/ Division: ({a} / {b}) = {a / b}\")\n",
        "print(f\"% Modulus: ({a} % {b}) = {a % b}\")\n",
        "print(f\"** Exponentiation: ({a} ** {b}) = {a ** b}\")"
      ],
      "metadata": {
        "colab": {
          "base_uri": "https://localhost:8080/"
        },
        "id": "-eyJdJ8bKOE6",
        "outputId": "9e202978-9cf0-4cac-a0ee-995c9233a528"
      },
      "execution_count": null,
      "outputs": [
        {
          "output_type": "stream",
          "name": "stdout",
          "text": [
            "+ Addition: (7 + 2) = 9\n",
            "- Subtraction: (7 - 2) = 5\n",
            "* Multiplication: (7 * 2) = 14\n",
            "/ Division: (7 / 2) = 3.5\n",
            "% Modulus: (7 % 2) = 1\n",
            "** Exponentiation: (7 ** 2) = 49\n"
          ]
        }
      ]
    },
    {
      "cell_type": "markdown",
      "source": [
        "## ***Booleans***"
      ],
      "metadata": {
        "id": "Y_an9JqHGMpc"
      }
    },
    {
      "cell_type": "code",
      "source": [
        "# Python Booleans: True or False\n",
        "a = 3\n",
        "b = 2\n",
        "print(f\"{a} > {b}: {a > b}\")\n",
        "print(f\"{a} < {b}: {a < b}\")\n",
        "print(f\"{a} == {b}: {a == b}\")\n"
      ],
      "metadata": {
        "colab": {
          "base_uri": "https://localhost:8080/"
        },
        "id": "cl37y3AbGYFm",
        "outputId": "77b54388-ec6c-4086-affc-37c7db8bb298"
      },
      "execution_count": null,
      "outputs": [
        {
          "output_type": "stream",
          "name": "stdout",
          "text": [
            "3 > 2: True\n",
            "3 < 2: False\n",
            "3 == 2: False\n"
          ]
        }
      ]
    },
    {
      "cell_type": "markdown",
      "source": [
        "## ***BMI Calculator***"
      ],
      "metadata": {
        "id": "2SRqhDiiHPsB"
      }
    },
    {
      "cell_type": "code",
      "source": [
        "# BMI Calculator in Python\n",
        "height_cm = 170\n",
        "weight_kg = 60\n",
        "height_m = height_cm/100\n",
        "BMI = (weight_kg/(height_m**2))\n",
        "\n",
        "print(\"Your BMI is: \" + str(round(BMI,1)))"
      ],
      "metadata": {
        "colab": {
          "base_uri": "https://localhost:8080/"
        },
        "id": "sZ6LfrfuHM65",
        "outputId": "039049a4-e2b6-4107-dd79-dce1c0088101"
      },
      "execution_count": null,
      "outputs": [
        {
          "output_type": "stream",
          "name": "stdout",
          "text": [
            "Your BMI is: 20.8\n"
          ]
        }
      ]
    },
    {
      "cell_type": "markdown",
      "source": [
        "## ***Future value***"
      ],
      "metadata": {
        "id": "kw0m8yyNItYB"
      }
    },
    {
      "cell_type": "code",
      "source": [
        "# Bài toán:  tiền lời $100 trong 7 năm là bao nhiêu\n",
        "# How much is your $100 worth after 7 years?\n",
        "# Cách 1:\n",
        "fv = 100 * 1.1 ** 7\n",
        "print('fv = ', round(fv, 2))\n",
        "\n",
        "# Cách 2:\n",
        "# Future Value\n",
        "pv = 100\n",
        "r = 0.1\n",
        "n = 7\n",
        "fv = pv * ((1 + (r)) ** n)\n",
        "print(f'fv = {pv} * ((1 + (({r})) ** {n}) =',round(fv, 2))\n"
      ],
      "metadata": {
        "colab": {
          "base_uri": "https://localhost:8080/"
        },
        "id": "D6TpUfKHI-Ok",
        "outputId": "6049bb37-300a-45d4-d5d2-f0d847a0c70d"
      },
      "execution_count": null,
      "outputs": [
        {
          "output_type": "stream",
          "name": "stdout",
          "text": [
            "fv =  194.87\n",
            "fv = 100 * ((1 + ((0.1)) ** 7) = 194.87\n"
          ]
        }
      ]
    },
    {
      "cell_type": "code",
      "source": [
        "# Future Value\n",
        "amount = 100\n",
        "interest = 10     #10% = 0.01 * 10\n",
        "years = 7\n",
        "\n",
        "future_value = amount * ((1 + (0.01 * interest)) ** years)\n",
        "print(f'future_value = {amount} * ((1 + (0.01 * {interest})) ** {years}) =',round(future_value, 2))"
      ],
      "metadata": {
        "colab": {
          "base_uri": "https://localhost:8080/"
        },
        "id": "bPcqZcmcKNcl",
        "outputId": "468f2118-9a95-4e11-c38d-64089bbb80ee"
      },
      "execution_count": null,
      "outputs": [
        {
          "output_type": "stream",
          "name": "stdout",
          "text": [
            "future_value = 100 * ((1 + (0.01 * 10)) ** 7) = 194.87\n"
          ]
        }
      ]
    },
    {
      "cell_type": "markdown",
      "source": [
        "## ***Data Types***"
      ],
      "metadata": {
        "id": "NYd0_fCDKgd8"
      }
    },
    {
      "cell_type": "code",
      "source": [
        "# List: là 1 tập hợp có thể sắp xếp, có thể thay đổi và cho phép có thể trùng lặp\n",
        "x = [\"apple\", \"banana\", \"cherry\"] #list\n",
        "print(f'x = {x}, data type = {type(x)}')\n",
        "\n",
        "# Tuple: là 1 tập hợp có thể sắp xếp nhưng không thể thay đổi vị trí và cho phép có thể trùng lặp\n",
        "x = (\"apple\", \"banana\", \"cherry\") #tuple\n",
        "print(f'x = {x}, data type = {type(x)}')\n",
        "\n",
        "# Dict: là 1 tập hợp có thể sắp xếp, có thể thay đổi nhưng ko cho phép trùng lặp\n",
        "x = {\"name\" : \"Tom\", \"age\" : 20} #dict\n",
        "print(f'x = {x}, data type = {type(x)}')\n",
        "\n",
        "# Set: là 1 tập hợp ko đc sắp xếp, ko thay đổi và ko chỉ mục nhé\n",
        "x = {\"apple\", \"banana\", \"cherry\"} #set\n",
        "print(f'x = {x}, data type = {type(x)}')\n"
      ],
      "metadata": {
        "colab": {
          "base_uri": "https://localhost:8080/"
        },
        "id": "6xK3sV3dKn9O",
        "outputId": "2154f917-f209-405c-c3b7-39c79703781b"
      },
      "execution_count": null,
      "outputs": [
        {
          "output_type": "stream",
          "name": "stdout",
          "text": [
            "x = ['apple', 'banana', 'cherry'], data type = <class 'list'>\n",
            "x = ('apple', 'banana', 'cherry'), data type = <class 'tuple'>\n",
            "x = {'name': 'Tom', 'age': 20}, data type = <class 'dict'>\n",
            "x = {'banana', 'cherry', 'apple'}, data type = <class 'set'>\n"
          ]
        }
      ]
    },
    {
      "cell_type": "markdown",
      "source": [
        "### *Lists []*"
      ],
      "metadata": {
        "id": "o0C8W0NYMtFW"
      }
    },
    {
      "cell_type": "code",
      "source": [
        "x = [60, 70, 80, 90]\n",
        "print(len(x)) # cho biết số lượng phân tử trong mảng\n",
        "print(x[0])   # lấy phần tử mảng đầu tiên (đếm bắt đầu từ 0,...)\n",
        "print(x[1])   # lấy phần tử mảng thứ 2\n",
        "print(x[-1])  # lấy phân tử mảng ngược lại là 1 đơn vị\n",
        "\n",
        "print(list(range(10))) # tạo 1 mảng gồm 10 số\n",
        "print(list(range(2,10))) # tạo 1 mảng từ 2 đến 10 và ko lấy điểm 10 nhé"
      ],
      "metadata": {
        "colab": {
          "base_uri": "https://localhost:8080/"
        },
        "id": "pX4W0EmsMsff",
        "outputId": "69cb6498-170c-4962-c667-907349c308d6"
      },
      "execution_count": null,
      "outputs": [
        {
          "output_type": "stream",
          "name": "stdout",
          "text": [
            "4\n",
            "60\n",
            "70\n",
            "90\n",
            "[0, 1, 2, 3, 4, 5, 6, 7, 8, 9]\n",
            "[2, 3, 4, 5, 6, 7, 8, 9, 10]\n"
          ]
        }
      ]
    },
    {
      "cell_type": "markdown",
      "source": [
        "### *Tuples ()*"
      ],
      "metadata": {
        "id": "LsQUa4vqO9mM"
      }
    },
    {
      "cell_type": "code",
      "source": [
        "\n",
        "x = (10, 20, 30, 40, 50)\n",
        "print(f\"x = {list(x)}, data type = {type(x)}\")\n",
        "print(x[0])\n",
        "print(x[1])\n",
        "print(x[2])\n",
        "print(x[-1])\n",
        "\n"
      ],
      "metadata": {
        "colab": {
          "base_uri": "https://localhost:8080/"
        },
        "id": "A2ZnRBmAPDy2",
        "outputId": "aaabaa01-437e-4758-8af9-99c9a6eec3a5"
      },
      "execution_count": null,
      "outputs": [
        {
          "output_type": "stream",
          "name": "stdout",
          "text": [
            "x = [10, 20, 30, 40, 50], data type = <class 'tuple'>\n",
            "10\n",
            "20\n",
            "30\n",
            "50\n"
          ]
        }
      ]
    },
    {
      "cell_type": "markdown",
      "source": [
        "### *Sets {}*"
      ],
      "metadata": {
        "id": "peDBpV_QQpVv"
      }
    },
    {
      "cell_type": "code",
      "source": [
        "animals = {'cat', 'dog'}\n",
        "# Cách 1:\n",
        "print(\"-\"*50)\n",
        "print(f'animals = {list(animals)}: ','cat' in animals)\n",
        "print(f'animals = {list(animals)}:','fish' in animals)\n",
        "print(\"-\"*50)\n",
        "animals.add('fish')\n",
        "print(list(animals))\n",
        "print(f'animals = {list(animals)}:','fish' in animals)\n",
        "print(f'animals = {list(animals)}:',len(animals))\n",
        "print(\"-\"*50)\n",
        "animals.add('cat')\n",
        "print(f'animals = {list(animals)}:',len(animals))\n",
        "print(\"-\"*50)\n",
        "animals.remove('cat')\n",
        "print(f'animals = {list(animals)}:',len(animals))\n",
        "\n",
        "# Cách 2:\n",
        "print(\"-\"*50)\n",
        "print(f\"animals={list(animals)}, 'cat' in animals={ 'cat' in animals }, 'fish' in animals={ 'fish' in animals }\")\n",
        "\n",
        "animals.add('fish')\n",
        "print(f\"animals={list(animals)}, 'fish' in animals={ 'fish' in animals }, size={ len(animals) }\")\n",
        "\n",
        "animals.add('cat')  # không ảnh hưởng\n",
        "print(f\"animals={list(animals)}, size={ len(animals) }\")\n",
        "\n",
        "animals.remove('cat')\n",
        "print(f\"animals={list(animals)}, size={ len(animals) }\")\n"
      ],
      "metadata": {
        "colab": {
          "base_uri": "https://localhost:8080/"
        },
        "id": "NHAU5Hp7QuHg",
        "outputId": "80c9ff93-e98f-40ee-ff82-6beb227f90f6"
      },
      "execution_count": null,
      "outputs": [
        {
          "output_type": "stream",
          "name": "stdout",
          "text": [
            "--------------------------------------------------\n",
            "animals = ['cat', 'dog']:  True\n",
            "animals = ['cat', 'dog']: False\n",
            "--------------------------------------------------\n",
            "['cat', 'dog', 'fish']\n",
            "animals = ['cat', 'dog', 'fish']: True\n",
            "animals = ['cat', 'dog', 'fish']: 3\n",
            "--------------------------------------------------\n",
            "animals = ['cat', 'dog', 'fish']: 3\n",
            "--------------------------------------------------\n",
            "animals = ['dog', 'fish']: 2\n",
            "--------------------------------------------------\n",
            "animals=['dog', 'fish'], 'cat' in animals=False, 'fish' in animals=True\n",
            "animals=['dog', 'fish'], 'fish' in animals=True, size=2\n",
            "animals=['cat', 'dog', 'fish'], size=3\n",
            "animals=['dog', 'fish'], size=2\n"
          ]
        }
      ]
    },
    {
      "cell_type": "markdown",
      "source": [
        "### *Dictionary {key: value}*"
      ],
      "metadata": {
        "id": "YQWPq9KjTc3T"
      }
    },
    {
      "cell_type": "code",
      "source": [
        "k = { 'EN':'English','FR':'French' }\n",
        "print(k['EN'])"
      ],
      "metadata": {
        "colab": {
          "base_uri": "https://localhost:8080/"
        },
        "id": "fChbwWXIUjsQ",
        "outputId": "f98989f9-9208-44ea-89d0-94282afd2699"
      },
      "execution_count": null,
      "outputs": [
        {
          "output_type": "stream",
          "name": "stdout",
          "text": [
            "English\n"
          ]
        }
      ]
    },
    {
      "cell_type": "markdown",
      "source": [
        "## ***Data Structures***"
      ],
      "metadata": {
        "id": "OcGsGWbwUzIF"
      }
    },
    {
      "cell_type": "code",
      "source": [
        "fruits = [\"apple\", \"banana\", \"cherry\"] #lists []\n",
        "print(f'fruits = {fruits}, data type = {type(fruits)}')\n",
        "print(\"-\"*50)\n",
        "\n",
        "colors = (\"red\", \"green\", \"blue\") #tuples ()\n",
        "print(f'colors = {colors}, data type = {type(colors)}')\n",
        "print(\"-\"*50)\n",
        "\n",
        "animals = {'cat', 'dog'} #sets {}\n",
        "print(f'animals = {animals}, data type = {type(animals)}')\n",
        "print(\"-\"*50)\n",
        "\n",
        "person = {\"name\" : \"Tom\", \"age\" : 20} #dictionaries {}\n",
        "print(f'person = {person}, data type = {type(person)}')"
      ],
      "metadata": {
        "colab": {
          "base_uri": "https://localhost:8080/"
        },
        "id": "zNtOvVfEUudH",
        "outputId": "c009f3df-9b70-4a9a-f55c-e608fce01b69"
      },
      "execution_count": null,
      "outputs": [
        {
          "output_type": "stream",
          "name": "stdout",
          "text": [
            "fruits = ['apple', 'banana', 'cherry'], data type = <class 'list'>\n",
            "--------------------------------------------------\n",
            "colors = ('red', 'green', 'blue'), data type = <class 'tuple'>\n",
            "--------------------------------------------------\n",
            "animals = {'cat', 'dog'}, data type = <class 'set'>\n",
            "--------------------------------------------------\n",
            "person = {'name': 'Tom', 'age': 20}, data type = <class 'dict'>\n"
          ]
        }
      ]
    },
    {
      "cell_type": "markdown",
      "source": [
        "## ***Finance Applications***"
      ],
      "metadata": {
        "id": "0zOVrPKdWCHe"
      }
    },
    {
      "cell_type": "code",
      "source": [
        "# Python Lists\n",
        "expenses = [72.50, 80.75, 50.00, 90.25]\n",
        "total_expenses = sum(expenses)\n",
        "print(\"Total expenses:\", total_expenses)"
      ],
      "metadata": {
        "colab": {
          "base_uri": "https://localhost:8080/"
        },
        "id": "aACZUhUXWMe2",
        "outputId": "3dcad6e5-5601-4a27-a4a3-57834a6b3c0c"
      },
      "execution_count": null,
      "outputs": [
        {
          "output_type": "stream",
          "name": "stdout",
          "text": [
            "Total expenses: 293.5\n"
          ]
        }
      ]
    },
    {
      "cell_type": "code",
      "source": [
        "# Python Tuples\n",
        "accounts = ((\"Cash\", 1001), (\"Accounts Receivable\", 1002),\n",
        "(\"Inventory\", 1003))\n",
        "for account in accounts:\n",
        "  print(\"Account name:\", account[0], \"Account number:\", account[1])"
      ],
      "metadata": {
        "colab": {
          "base_uri": "https://localhost:8080/"
        },
        "id": "2uPtkzLUWPyE",
        "outputId": "5669fdcb-5e72-4a42-a855-94efa9de9563"
      },
      "execution_count": null,
      "outputs": [
        {
          "output_type": "stream",
          "name": "stdout",
          "text": [
            "Account name: Cash Account number: 1001\n",
            "Account name: Accounts Receivable Account number: 1002\n",
            "Account name: Inventory Account number: 1003\n"
          ]
        }
      ]
    },
    {
      "cell_type": "code",
      "source": [
        "# Python Sets\n",
        "account_numbers = {1001, 1002, 1003}\n",
        "new_account_number = 1004\n",
        "if new_account_number not in account_numbers:\n",
        "  print(\"Account number\", new_account_number, \"is not in use.\")"
      ],
      "metadata": {
        "colab": {
          "base_uri": "https://localhost:8080/"
        },
        "id": "y_DtYI2dWVjx",
        "outputId": "4e56ac97-b517-44f1-cc5f-5baacac662b9"
      },
      "execution_count": null,
      "outputs": [
        {
          "output_type": "stream",
          "name": "stdout",
          "text": [
            "Account number 1004 is not in use.\n"
          ]
        }
      ]
    },
    {
      "cell_type": "code",
      "source": [
        "# Python Dictionaries\n",
        "accounts = {\"1001\": {\"name\": \"Cash\", \"balance\": 500.00, \"type\": \"Asset\"},\n",
        "\"1002\": {\"name\": \"Accounts Receivable\", \"balance\": 1000.00, \"type\": \"Asset\"},\n",
        "\"2001\": {\"name\": \"Accounts Payable\", \"balance\": 750.00, \"type\": \"Liability\"}}\n",
        "for account_number, account_info in accounts.items():\n",
        "  print(\"Account number:\", account_number)\n",
        "  print(\"Account name:\", account_info[\"name\"])\n",
        "  print(\"Account balance:\", account_info[\"balance\"])\n",
        "  print(\"Account type:\", account_info[\"type\"])"
      ],
      "metadata": {
        "colab": {
          "base_uri": "https://localhost:8080/"
        },
        "id": "VjnrYYlPWbtB",
        "outputId": "78e9dd8a-312c-4aec-f396-e0643a153003"
      },
      "execution_count": null,
      "outputs": [
        {
          "output_type": "stream",
          "name": "stdout",
          "text": [
            "Account number: 1001\n",
            "Account name: Cash\n",
            "Account balance: 500.0\n",
            "Account type: Asset\n",
            "Account number: 1002\n",
            "Account name: Accounts Receivable\n",
            "Account balance: 1000.0\n",
            "Account type: Asset\n",
            "Account number: 2001\n",
            "Account name: Accounts Payable\n",
            "Account balance: 750.0\n",
            "Account type: Liability\n"
          ]
        }
      ]
    },
    {
      "cell_type": "markdown",
      "source": [
        "## ***Summary***\n",
        "**Python Data Structures**\n",
        "*   Lists []\n",
        "*   Tuples ()\n",
        "*   Sets {}\n",
        "*   Dictionaries {k:v}\n",
        "\n",
        "\n"
      ],
      "metadata": {
        "id": "Y6Zko-yrWgkY"
      }
    },
    {
      "cell_type": "markdown",
      "source": [
        "## ***Python if...else***"
      ],
      "metadata": {
        "id": "fPX3KV_jXM8N"
      }
    },
    {
      "cell_type": "code",
      "source": [
        "pairs = [(2, 5), (5, 2), (5, 5)]\n",
        "for a, b in pairs:\n",
        "    print(\"-\" * 50)\n",
        "    print(f\"Đang so sánh a={a}, b={b}\")\n",
        "    if a == b:\n",
        "        print(f\"{a} == {b}\")\n",
        "    else:\n",
        "        print(f\"{a} != {b}\")\n",
        "\n",
        "    if a < b:\n",
        "        print(f\"{a} < {b}\")\n",
        "    else:\n",
        "        print(f\"{a} >= {b}\")\n",
        "\n",
        "    if a <= b:\n",
        "        print(f\"{a} <= {b}\")\n",
        "    else:\n",
        "        print(f\"{a} > {b}\")\n",
        "\n",
        "    if a > b:\n",
        "        print(f\"{a} > {b}\")\n",
        "    else:\n",
        "        print(f\"{a} <= {b}\")\n",
        "\n",
        "    if a >= b:\n",
        "        print(f\"{a} >= {b}\")\n",
        "    else:\n",
        "        print(f\"{a} < {b}\")\n"
      ],
      "metadata": {
        "colab": {
          "base_uri": "https://localhost:8080/"
        },
        "id": "KDMWq_PJXqi7",
        "outputId": "e34f3692-a478-4f15-d539-b91090ccb00a"
      },
      "execution_count": null,
      "outputs": [
        {
          "output_type": "stream",
          "name": "stdout",
          "text": [
            "--------------------------------------------------\n",
            "Đang so sánh a=2, b=5\n",
            "2 != 5\n",
            "2 < 5\n",
            "2 <= 5\n",
            "2 <= 5\n",
            "2 < 5\n",
            "--------------------------------------------------\n",
            "Đang so sánh a=5, b=2\n",
            "5 != 2\n",
            "5 >= 2\n",
            "5 > 2\n",
            "5 > 2\n",
            "5 >= 2\n",
            "--------------------------------------------------\n",
            "Đang so sánh a=5, b=5\n",
            "5 == 5\n",
            "5 >= 5\n",
            "5 <= 5\n",
            "5 <= 5\n",
            "5 >= 5\n"
          ]
        }
      ]
    },
    {
      "cell_type": "markdown",
      "source": [
        "### *Python if*"
      ],
      "metadata": {
        "id": "augqyM1QZcW6"
      }
    },
    {
      "cell_type": "code",
      "source": [
        "# Python if\n",
        "score = 80\n",
        "\n",
        "if score >=60 :\n",
        "  print(\"Pass\")"
      ],
      "metadata": {
        "colab": {
          "base_uri": "https://localhost:8080/"
        },
        "id": "dIUCrkxlZiDJ",
        "outputId": "5de3968a-8ef8-4f40-d7a4-fc3a62bc3fbd"
      },
      "execution_count": null,
      "outputs": [
        {
          "output_type": "stream",
          "name": "stdout",
          "text": [
            "Pass\n"
          ]
        }
      ]
    },
    {
      "cell_type": "markdown",
      "source": [
        "### *Python if else*"
      ],
      "metadata": {
        "id": "jglCkvtoZqJp"
      }
    },
    {
      "cell_type": "code",
      "source": [
        "# Python if else\n",
        "score = 80\n",
        "\n",
        "if score >=60 :\n",
        "  print(\"Pass\")\n",
        "\n",
        "else:\n",
        "  print(\"Fail\")"
      ],
      "metadata": {
        "colab": {
          "base_uri": "https://localhost:8080/"
        },
        "id": "9vRuLMNvZxen",
        "outputId": "8fac272c-c431-458e-c5dd-21d06df083ed"
      },
      "execution_count": null,
      "outputs": [
        {
          "output_type": "stream",
          "name": "stdout",
          "text": [
            "Pass\n"
          ]
        }
      ]
    },
    {
      "cell_type": "markdown",
      "source": [
        "### *Python if elif else*"
      ],
      "metadata": {
        "id": "EidVxyxfZ4Ns"
      }
    },
    {
      "cell_type": "code",
      "source": [
        "score = 95\n",
        "print(f\"Score = {score}\")\n",
        "if score >= 90 :\n",
        "  print(\"A\")\n",
        "\n",
        "elif score >=60 :\n",
        "  print(\"Pass\")\n",
        "\n",
        "else:\n",
        "  print(\"Fail\")\n",
        "\n",
        "\n"
      ],
      "metadata": {
        "colab": {
          "base_uri": "https://localhost:8080/"
        },
        "id": "XeLqoeuXaAWj",
        "outputId": "aa2c21c4-6119-4e56-da25-20aab3ee0eb5"
      },
      "execution_count": null,
      "outputs": [
        {
          "output_type": "stream",
          "name": "stdout",
          "text": [
            "Score = 95\n",
            "A\n"
          ]
        }
      ]
    },
    {
      "cell_type": "code",
      "source": [
        "# Python if elif else\n",
        "score = 90\n",
        "grade = \"\"\n",
        "if score >=90:\n",
        "  grade = \"A\"\n",
        "\n",
        "elif score >= 80:\n",
        "  grade = \"B\"\n",
        "\n",
        "elif score >= 70:\n",
        "  grade = \"C\"\n",
        "\n",
        "elif score >= 60:\n",
        "  grade = \"D\"\n",
        "\n",
        "else:\n",
        "  grade = \"E\"\n",
        "\n",
        "print(grade)"
      ],
      "metadata": {
        "colab": {
          "base_uri": "https://localhost:8080/"
        },
        "id": "zo2nDIeYacB6",
        "outputId": "7228e02a-7f31-4776-99bf-4285a3d3a40e"
      },
      "execution_count": null,
      "outputs": [
        {
          "output_type": "stream",
          "name": "stdout",
          "text": [
            "A\n"
          ]
        }
      ]
    },
    {
      "cell_type": "markdown",
      "source": [
        "### *Python for Loops*"
      ],
      "metadata": {
        "id": "KTxgCyNlawrR"
      }
    },
    {
      "cell_type": "code",
      "source": [
        "for i in range(1,6):\n",
        "  print(i)"
      ],
      "metadata": {
        "colab": {
          "base_uri": "https://localhost:8080/"
        },
        "id": "KK-CH-PnawKl",
        "outputId": "d9025eb3-6d7c-4879-facc-08f2049cc08f"
      },
      "execution_count": null,
      "outputs": [
        {
          "output_type": "stream",
          "name": "stdout",
          "text": [
            "1\n",
            "2\n",
            "3\n",
            "4\n",
            "5\n"
          ]
        }
      ]
    },
    {
      "cell_type": "code",
      "source": [
        "# for loops\n",
        "for i in range(1,10):\n",
        "  for j in range(1,10):\n",
        "    print(i, ' * ' , j , ' = ', i*j)"
      ],
      "metadata": {
        "colab": {
          "base_uri": "https://localhost:8080/"
        },
        "id": "ha5LyYmMbA-7",
        "outputId": "c7dfca75-ce1c-495b-b301-3cedeacb667c"
      },
      "execution_count": null,
      "outputs": [
        {
          "output_type": "stream",
          "name": "stdout",
          "text": [
            "1  *  1  =  1\n",
            "1  *  2  =  2\n",
            "1  *  3  =  3\n",
            "1  *  4  =  4\n",
            "1  *  5  =  5\n",
            "1  *  6  =  6\n",
            "1  *  7  =  7\n",
            "1  *  8  =  8\n",
            "1  *  9  =  9\n",
            "2  *  1  =  2\n",
            "2  *  2  =  4\n",
            "2  *  3  =  6\n",
            "2  *  4  =  8\n",
            "2  *  5  =  10\n",
            "2  *  6  =  12\n",
            "2  *  7  =  14\n",
            "2  *  8  =  16\n",
            "2  *  9  =  18\n",
            "3  *  1  =  3\n",
            "3  *  2  =  6\n",
            "3  *  3  =  9\n",
            "3  *  4  =  12\n",
            "3  *  5  =  15\n",
            "3  *  6  =  18\n",
            "3  *  7  =  21\n",
            "3  *  8  =  24\n",
            "3  *  9  =  27\n",
            "4  *  1  =  4\n",
            "4  *  2  =  8\n",
            "4  *  3  =  12\n",
            "4  *  4  =  16\n",
            "4  *  5  =  20\n",
            "4  *  6  =  24\n",
            "4  *  7  =  28\n",
            "4  *  8  =  32\n",
            "4  *  9  =  36\n",
            "5  *  1  =  5\n",
            "5  *  2  =  10\n",
            "5  *  3  =  15\n",
            "5  *  4  =  20\n",
            "5  *  5  =  25\n",
            "5  *  6  =  30\n",
            "5  *  7  =  35\n",
            "5  *  8  =  40\n",
            "5  *  9  =  45\n",
            "6  *  1  =  6\n",
            "6  *  2  =  12\n",
            "6  *  3  =  18\n",
            "6  *  4  =  24\n",
            "6  *  5  =  30\n",
            "6  *  6  =  36\n",
            "6  *  7  =  42\n",
            "6  *  8  =  48\n",
            "6  *  9  =  54\n",
            "7  *  1  =  7\n",
            "7  *  2  =  14\n",
            "7  *  3  =  21\n",
            "7  *  4  =  28\n",
            "7  *  5  =  35\n",
            "7  *  6  =  42\n",
            "7  *  7  =  49\n",
            "7  *  8  =  56\n",
            "7  *  9  =  63\n",
            "8  *  1  =  8\n",
            "8  *  2  =  16\n",
            "8  *  3  =  24\n",
            "8  *  4  =  32\n",
            "8  *  5  =  40\n",
            "8  *  6  =  48\n",
            "8  *  7  =  56\n",
            "8  *  8  =  64\n",
            "8  *  9  =  72\n",
            "9  *  1  =  9\n",
            "9  *  2  =  18\n",
            "9  *  3  =  27\n",
            "9  *  4  =  36\n",
            "9  *  5  =  45\n",
            "9  *  6  =  54\n",
            "9  *  7  =  63\n",
            "9  *  8  =  72\n",
            "9  *  9  =  81\n"
          ]
        }
      ]
    },
    {
      "cell_type": "markdown",
      "source": [
        "### *Python while loops*"
      ],
      "metadata": {
        "id": "WD6Lrzq9bNI0"
      }
    },
    {
      "cell_type": "code",
      "source": [
        "# while loops\n",
        "age = 10\n",
        "while age < 20:\n",
        "  print(age)\n",
        "  age = age + 1"
      ],
      "metadata": {
        "colab": {
          "base_uri": "https://localhost:8080/"
        },
        "id": "H-AKXWGCbL01",
        "outputId": "7d4d041f-7980-4d75-8a8f-4a11d7349c02"
      },
      "execution_count": null,
      "outputs": [
        {
          "output_type": "stream",
          "name": "stdout",
          "text": [
            "10\n",
            "11\n",
            "12\n",
            "13\n",
            "14\n",
            "15\n",
            "16\n",
            "17\n",
            "18\n",
            "19\n"
          ]
        }
      ]
    },
    {
      "cell_type": "markdown",
      "source": [
        "## ***Python Function***"
      ],
      "metadata": {
        "id": "TDmPvE2JbWhL"
      }
    },
    {
      "cell_type": "code",
      "source": [
        "# Python Function def\n",
        "# indentation for blocks. four spaces\n",
        "def getfv(pv, r, n):\n",
        "  fv = pv * ((1 + (r)) ** n)\n",
        "  return fv\n",
        "\n",
        "fv = getfv(100, 0.1, 7)\n",
        "print(round(fv, 2))"
      ],
      "metadata": {
        "colab": {
          "base_uri": "https://localhost:8080/"
        },
        "id": "jDcuq83xG8Nf",
        "outputId": "a4c5fc8a-6c76-4ed9-c726-cfba1362712d"
      },
      "execution_count": null,
      "outputs": [
        {
          "output_type": "stream",
          "name": "stdout",
          "text": [
            "194.87\n"
          ]
        }
      ]
    },
    {
      "cell_type": "markdown",
      "source": [
        "## ***Python Classes/ Objects***"
      ],
      "metadata": {
        "id": "s3JBxjeuHZrT"
      }
    },
    {
      "cell_type": "code",
      "source": [
        "class MyClass:\n",
        "  x = 5\n",
        "\n",
        "p1 = MyClass()\n",
        "print(p1.x)"
      ],
      "metadata": {
        "colab": {
          "base_uri": "https://localhost:8080/"
        },
        "id": "9gXarK0-Hj3Y",
        "outputId": "07565730-0f84-4180-b8b3-aa351ec8ccc9"
      },
      "execution_count": null,
      "outputs": [
        {
          "output_type": "stream",
          "name": "stdout",
          "text": [
            "5\n"
          ]
        }
      ]
    },
    {
      "cell_type": "code",
      "source": [
        "%%writefile mymodule.py\n",
        "# Python Classes/Objects\n",
        "class Person:\n",
        "  def __init__(self, name, age):\n",
        "    self.name = name\n",
        "    self.age = age\n",
        "\n",
        "p1 = Person(\"Alan\", 20)\n",
        "\n",
        "print(f\"{p1.name}, {p1.age}\")\n",
        "# print(p1.age)"
      ],
      "metadata": {
        "colab": {
          "base_uri": "https://localhost:8080/"
        },
        "id": "6YrL-lDaH5qs",
        "outputId": "2343e35e-2a97-449c-dd48-a75fc23713ac"
      },
      "execution_count": null,
      "outputs": [
        {
          "output_type": "stream",
          "name": "stdout",
          "text": [
            "Writing mymodule.py\n"
          ]
        }
      ]
    },
    {
      "cell_type": "code",
      "source": [
        "!cat mymodule.py"
      ],
      "metadata": {
        "colab": {
          "base_uri": "https://localhost:8080/"
        },
        "id": "Tg4BVihNJP1U",
        "outputId": "83c8567b-6a2f-40e2-ef7c-668a3b59126e"
      },
      "execution_count": null,
      "outputs": [
        {
          "output_type": "stream",
          "name": "stdout",
          "text": [
            "# Python Classes/Objects\n",
            "class Person:\n",
            "  def __init__(self, name, age):\n",
            "    self.name = name\n",
            "    self.age = age\n",
            "\n",
            "p1 = Person(\"Alan\", 20)\n",
            "\n",
            "print(f\"{p1.name}, {p1.age}\")\n",
            "# print(p1.age)\n"
          ]
        }
      ]
    },
    {
      "cell_type": "code",
      "source": [
        "from mymodule import Person\n",
        "class Person:\n",
        "  def __init__(self, name, age):\n",
        "    self.name = name\n",
        "    self.age = age\n",
        "\n",
        "  def myfunc(self):\n",
        "    print(\"Hello my name is \" + self.name)\n",
        "\n",
        "p1 = Person(\"Alan\", 20)\n",
        "p1.myfunc()"
      ],
      "metadata": {
        "colab": {
          "base_uri": "https://localhost:8080/"
        },
        "id": "krAU5u2RIY9E",
        "outputId": "2f84fbc3-d1a7-478a-f64a-293d6dc0ac30"
      },
      "execution_count": null,
      "outputs": [
        {
          "output_type": "stream",
          "name": "stdout",
          "text": [
            "Hello my name is Alan\n"
          ]
        }
      ]
    },
    {
      "cell_type": "code",
      "source": [
        "from mymodule import Person\n",
        "class Person:\n",
        "  def __init__(self, name, age):\n",
        "    self.name = name\n",
        "    self.age = age\n",
        "\n",
        "  def myfunc(self):\n",
        "    print(\"Hello my name is \" + self.name)\n",
        "\n",
        "p1 = Person(\"Alan\", 20)\n",
        "p1.myfunc()\n",
        "print(f\"{p1.name}, {p1.age}\")"
      ],
      "metadata": {
        "colab": {
          "base_uri": "https://localhost:8080/"
        },
        "id": "8cqFt-UGJgDg",
        "outputId": "6603d2b5-b19b-41c1-dd00-adedc450f030"
      },
      "execution_count": null,
      "outputs": [
        {
          "output_type": "stream",
          "name": "stdout",
          "text": [
            "Hello my name is Alan\n",
            "Alan, 20\n"
          ]
        }
      ]
    },
    {
      "cell_type": "code",
      "source": [
        "class Vehicle:\n",
        "  name = \"\"\n",
        "  kind = \"car\"\n",
        "  color = \"\"\n",
        "  value = 100.00\n",
        "  def description(self):\n",
        "    desc_str = \"%s is a %s %s worth $%.2f.\" % (self.name, self.color, self.kind, self.value)\n",
        "    return desc_str\n",
        "\n",
        "car1 = Vehicle()\n",
        "car1.name = \"Fer\"\n",
        "car1.color = \"red\"\n",
        "car1.kind = \"convertible\"\n",
        "car1.value = 60000.00\n",
        "\n",
        "car2 = Vehicle()\n",
        "car2.name = \"Jump\"\n",
        "car2.color = \"blue\"\n",
        "car2.kind = \"van\"\n",
        "car2.value = 10000.00\n",
        "\n",
        "print(car1.description())\n",
        "print(car1.name)\n",
        "print(car2.description())\n",
        "print(car2.name)"
      ],
      "metadata": {
        "colab": {
          "base_uri": "https://localhost:8080/"
        },
        "id": "2zpxiIKxJuE0",
        "outputId": "0b1cae5c-09cf-4d5d-d23a-10aaf59842c7"
      },
      "execution_count": null,
      "outputs": [
        {
          "output_type": "stream",
          "name": "stdout",
          "text": [
            "Fer is a red convertible worth $60000.00.\n",
            "Fer\n",
            "Jump is a blue van worth $10000.00.\n",
            "Jump\n"
          ]
        }
      ]
    },
    {
      "cell_type": "markdown",
      "source": [
        "## ***Python Modules***"
      ],
      "metadata": {
        "id": "Wn7iaY3bKzcZ"
      }
    },
    {
      "cell_type": "code",
      "source": [
        "%%writefile mymodule1.py\n",
        "# Python Modules\n",
        "def greeting(name):\n",
        "  print(\"Hello, \" + name)\n"
      ],
      "metadata": {
        "colab": {
          "base_uri": "https://localhost:8080/"
        },
        "id": "gCk3U8G-K5ja",
        "outputId": "b8d13b6b-7bb1-4cb5-f44f-1adfac1c64e5"
      },
      "execution_count": null,
      "outputs": [
        {
          "output_type": "stream",
          "name": "stdout",
          "text": [
            "Overwriting mymodule1.py\n"
          ]
        }
      ]
    },
    {
      "cell_type": "code",
      "source": [
        "!cat mymodule1.py"
      ],
      "metadata": {
        "colab": {
          "base_uri": "https://localhost:8080/"
        },
        "id": "SMUKBapyKymb",
        "outputId": "41c042be-2c03-4d33-c610-39de08144e6e"
      },
      "execution_count": null,
      "outputs": [
        {
          "output_type": "stream",
          "name": "stdout",
          "text": [
            "# Python Modules\n",
            "def greeting(name):\n",
            "  print(\"Hello, \" + name)\n"
          ]
        }
      ]
    },
    {
      "cell_type": "code",
      "source": [
        "from mymodule1 import greeting\n",
        "greeting(\"Alan\")\n"
      ],
      "metadata": {
        "colab": {
          "base_uri": "https://localhost:8080/"
        },
        "id": "mOYfKqSqLZ1v",
        "outputId": "b8a71ddf-1d60-45d7-d469-ea4e38af2505"
      },
      "execution_count": null,
      "outputs": [
        {
          "output_type": "stream",
          "name": "stdout",
          "text": [
            "Hello, Alan\n"
          ]
        }
      ]
    },
    {
      "cell_type": "markdown",
      "source": [
        "## ***Python File Input/ Output***"
      ],
      "metadata": {
        "id": "l2YPYpN3MLD7"
      }
    },
    {
      "cell_type": "code",
      "source": [
        "# Python File Input/ Output\n",
        "with open(\"myfile.txt\", \"w\") as f:\n",
        "  f.write(\"Hello World\\nThis is Python File Input/ Output\")\n",
        "with open(\"myfile.txt\", \"r\") as f:\n",
        "  text = f.read()\n",
        "print(text)"
      ],
      "metadata": {
        "colab": {
          "base_uri": "https://localhost:8080/"
        },
        "id": "8cPhEOpXMTb-",
        "outputId": "354ab540-00fc-44cd-8c39-4e2962a733bc"
      },
      "execution_count": null,
      "outputs": [
        {
          "output_type": "stream",
          "name": "stdout",
          "text": [
            "Hello World\n",
            "This is Python File Input/ Output\n"
          ]
        }
      ]
    },
    {
      "cell_type": "code",
      "source": [
        "# Python File Input/ Output\n",
        "filenname = 'mymodule1.py'\n",
        "with open(filenname,'w') as f:\n",
        "  text = '''def greeting(name):\n",
        "  print(\"Hello, \" + name)'''\n",
        "  f.write(text)\n",
        "with open(filenname,'r') as f:\n",
        "  text = f.read()\n",
        "print(filenname)\n",
        "print(text)"
      ],
      "metadata": {
        "colab": {
          "base_uri": "https://localhost:8080/"
        },
        "id": "0GFWTeIIM8c7",
        "outputId": "e82d81d6-48ff-405a-ba40-ef6269e389c1"
      },
      "execution_count": null,
      "outputs": [
        {
          "output_type": "stream",
          "name": "stdout",
          "text": [
            "mymodule1.py\n",
            "def greeting(name):\n",
            "  print(\"Hello, \" + name)\n"
          ]
        }
      ]
    },
    {
      "cell_type": "markdown",
      "source": [
        "## ***Function***"
      ],
      "metadata": {
        "id": "5xedM_xVN__V"
      }
    },
    {
      "cell_type": "code",
      "source": [
        "# Python main() function\n",
        "def main():\n",
        "  print(\"Hello World!\")\n",
        "if __name__ == '__main__':\n",
        "  main()"
      ],
      "metadata": {
        "colab": {
          "base_uri": "https://localhost:8080/"
        },
        "id": "_VGCXoQhNvMc",
        "outputId": "41bda96e-a402-4b61-cd41-bf20316030f1"
      },
      "execution_count": null,
      "outputs": [
        {
          "output_type": "stream",
          "name": "stdout",
          "text": [
            "Hello World!\n"
          ]
        }
      ]
    },
    {
      "cell_type": "markdown",
      "source": [
        "## ***Files and Exception Handing***"
      ],
      "metadata": {
        "id": "JMV4jZLKObFn"
      }
    },
    {
      "cell_type": "markdown",
      "source": [
        "### *Python Files (File Handling)*"
      ],
      "metadata": {
        "id": "4Zis5KpZO1aC"
      }
    },
    {
      "cell_type": "code",
      "source": [
        "f = open(\"myfile.txt\", \"w\")\n",
        "f.write(\"Hello World\")\n",
        "f.close()\n",
        "\n",
        "f = open(\"myfile.txt\", \"r\")\n",
        "f1 = f.read()\n",
        "print(f1)\n",
        "f.close()"
      ],
      "metadata": {
        "colab": {
          "base_uri": "https://localhost:8080/"
        },
        "id": "O-VbYiCZOk6A",
        "outputId": "833b73ad-890c-4375-9b6f-584fddfa86ae"
      },
      "execution_count": null,
      "outputs": [
        {
          "output_type": "stream",
          "name": "stdout",
          "text": [
            "Hello World\n"
          ]
        }
      ]
    },
    {
      "cell_type": "code",
      "source": [
        "with open('myfile.txt', 'w') as f:\n",
        "  f.write(\"Hello World\\nPython File IO\")\n",
        "\n",
        "with open(\"myfile.txt\", \"r\") as f:\n",
        "  f1 = f.read()\n",
        "print(f1)"
      ],
      "metadata": {
        "colab": {
          "base_uri": "https://localhost:8080/"
        },
        "id": "fLn6Ouq8PcEZ",
        "outputId": "30084aff-849b-41b1-cca6-b5648500a3b7"
      },
      "execution_count": null,
      "outputs": [
        {
          "output_type": "stream",
          "name": "stdout",
          "text": [
            "Hello World\n",
            "Python File IO\n"
          ]
        }
      ]
    },
    {
      "cell_type": "code",
      "source": [
        "!ls"
      ],
      "metadata": {
        "colab": {
          "base_uri": "https://localhost:8080/"
        },
        "id": "cbViRoWMcJPo",
        "outputId": "af40e6b0-e50f-454f-8f10-8c66633def4e"
      },
      "execution_count": null,
      "outputs": [
        {
          "output_type": "stream",
          "name": "stdout",
          "text": [
            "myfile.txt  mymodule1.py  mymodule.py  __pycache__  sample_data\n"
          ]
        }
      ]
    },
    {
      "cell_type": "markdown",
      "source": [
        "### *Python OS, IO, File and GG Drive*"
      ],
      "metadata": {
        "id": "VIW7Msy2cRI6"
      }
    },
    {
      "cell_type": "code",
      "source": [
        "import os\n",
        "cwd = os.getcwd()\n",
        "print(cwd) # nhánh để kết nối\n",
        "\n",
        "os.listdir(cwd) # cách nhánh con trong nhánh content"
      ],
      "metadata": {
        "colab": {
          "base_uri": "https://localhost:8080/"
        },
        "id": "n_guVHy0cxYY",
        "outputId": "e0af709f-f076-48e5-fb8a-b5681c89bddc"
      },
      "execution_count": null,
      "outputs": [
        {
          "output_type": "stream",
          "name": "stdout",
          "text": [
            "/content\n"
          ]
        },
        {
          "output_type": "execute_result",
          "data": {
            "text/plain": [
              "['.config',\n",
              " 'myfile.txt',\n",
              " 'mymodule1.py',\n",
              " 'mymodule.py',\n",
              " '__pycache__',\n",
              " 'sample_data']"
            ]
          },
          "metadata": {},
          "execution_count": 47
        }
      ]
    },
    {
      "cell_type": "code",
      "source": [
        "path = os.path.join(cwd, 'sample_data')\n",
        "print(path)\n",
        "os.listdir(path)"
      ],
      "metadata": {
        "colab": {
          "base_uri": "https://localhost:8080/"
        },
        "id": "Bjr2hlJidGw4",
        "outputId": "daf8b8f7-f47c-4562-92c9-1447321327a3"
      },
      "execution_count": null,
      "outputs": [
        {
          "output_type": "stream",
          "name": "stdout",
          "text": [
            "/content/sample_data\n"
          ]
        },
        {
          "output_type": "execute_result",
          "data": {
            "text/plain": [
              "['anscombe.json',\n",
              " 'README.md',\n",
              " 'mnist_test.csv',\n",
              " 'mnist_train_small.csv',\n",
              " 'california_housing_train.csv',\n",
              " 'california_housing_test.csv']"
            ]
          },
          "metadata": {},
          "execution_count": 49
        }
      ]
    },
    {
      "cell_type": "markdown",
      "source": [
        "### *Connect Colab download file*"
      ],
      "metadata": {
        "id": "cnUF7pQde0RL"
      }
    },
    {
      "cell_type": "code",
      "source": [
        "from google.colab import files\n",
        "\n",
        "with open('io_file_myday.txt', 'w') as f:\n",
        "  f.write('Google Colab File Write Text some content Myday')\n",
        "\n",
        "import time\n",
        "time.sleep(1) # time sleep 1 second\n",
        "\n",
        "files.download('io_file_myday.txt')\n",
        "print('downloaded')"
      ],
      "metadata": {
        "colab": {
          "base_uri": "https://localhost:8080/",
          "height": 34
        },
        "id": "IwAD3_msee2Q",
        "outputId": "a942c81a-8dff-4e8c-b98b-09d150c96bc3"
      },
      "execution_count": null,
      "outputs": [
        {
          "output_type": "display_data",
          "data": {
            "text/plain": [
              "<IPython.core.display.Javascript object>"
            ],
            "application/javascript": [
              "\n",
              "    async function download(id, filename, size) {\n",
              "      if (!google.colab.kernel.accessAllowed) {\n",
              "        return;\n",
              "      }\n",
              "      const div = document.createElement('div');\n",
              "      const label = document.createElement('label');\n",
              "      label.textContent = `Downloading \"${filename}\": `;\n",
              "      div.appendChild(label);\n",
              "      const progress = document.createElement('progress');\n",
              "      progress.max = size;\n",
              "      div.appendChild(progress);\n",
              "      document.body.appendChild(div);\n",
              "\n",
              "      const buffers = [];\n",
              "      let downloaded = 0;\n",
              "\n",
              "      const channel = await google.colab.kernel.comms.open(id);\n",
              "      // Send a message to notify the kernel that we're ready.\n",
              "      channel.send({})\n",
              "\n",
              "      for await (const message of channel.messages) {\n",
              "        // Send a message to notify the kernel that we're ready.\n",
              "        channel.send({})\n",
              "        if (message.buffers) {\n",
              "          for (const buffer of message.buffers) {\n",
              "            buffers.push(buffer);\n",
              "            downloaded += buffer.byteLength;\n",
              "            progress.value = downloaded;\n",
              "          }\n",
              "        }\n",
              "      }\n",
              "      const blob = new Blob(buffers, {type: 'application/binary'});\n",
              "      const a = document.createElement('a');\n",
              "      a.href = window.URL.createObjectURL(blob);\n",
              "      a.download = filename;\n",
              "      div.appendChild(a);\n",
              "      a.click();\n",
              "      div.remove();\n",
              "    }\n",
              "  "
            ]
          },
          "metadata": {}
        },
        {
          "output_type": "display_data",
          "data": {
            "text/plain": [
              "<IPython.core.display.Javascript object>"
            ],
            "application/javascript": [
              "download(\"download_bf78b0eb-dd3d-4e88-ab52-711435c684ca\", \"io_file_myday.txt\", 47)"
            ]
          },
          "metadata": {}
        },
        {
          "output_type": "stream",
          "name": "stdout",
          "text": [
            "downloaded\n"
          ]
        }
      ]
    },
    {
      "cell_type": "markdown",
      "source": [
        "### *Upload File*"
      ],
      "metadata": {
        "id": "cNMLHQdJexYh"
      }
    },
    {
      "cell_type": "code",
      "source": [
        "from google.colab import files\n",
        "\n",
        "uploaded = files.upload()\n",
        "\n",
        "for fn in uploaded.keys():\n",
        "  print('User uploaded file \"{name}\" with length {length} bytes'.format(name=fn, length=len(uploaded[fn])))"
      ],
      "metadata": {
        "colab": {
          "base_uri": "https://localhost:8080/",
          "height": 90
        },
        "id": "Hu4Ls5gdewrd",
        "outputId": "9affe283-ce73-4eb3-8722-b7698a41f120"
      },
      "execution_count": null,
      "outputs": [
        {
          "output_type": "display_data",
          "data": {
            "text/plain": [
              "<IPython.core.display.HTML object>"
            ],
            "text/html": [
              "\n",
              "     <input type=\"file\" id=\"files-6192a90c-cba0-4a84-bf72-06e38f4e863f\" name=\"files[]\" multiple disabled\n",
              "        style=\"border:none\" />\n",
              "     <output id=\"result-6192a90c-cba0-4a84-bf72-06e38f4e863f\">\n",
              "      Upload widget is only available when the cell has been executed in the\n",
              "      current browser session. Please rerun this cell to enable.\n",
              "      </output>\n",
              "      <script>// Copyright 2017 Google LLC\n",
              "//\n",
              "// Licensed under the Apache License, Version 2.0 (the \"License\");\n",
              "// you may not use this file except in compliance with the License.\n",
              "// You may obtain a copy of the License at\n",
              "//\n",
              "//      http://www.apache.org/licenses/LICENSE-2.0\n",
              "//\n",
              "// Unless required by applicable law or agreed to in writing, software\n",
              "// distributed under the License is distributed on an \"AS IS\" BASIS,\n",
              "// WITHOUT WARRANTIES OR CONDITIONS OF ANY KIND, either express or implied.\n",
              "// See the License for the specific language governing permissions and\n",
              "// limitations under the License.\n",
              "\n",
              "/**\n",
              " * @fileoverview Helpers for google.colab Python module.\n",
              " */\n",
              "(function(scope) {\n",
              "function span(text, styleAttributes = {}) {\n",
              "  const element = document.createElement('span');\n",
              "  element.textContent = text;\n",
              "  for (const key of Object.keys(styleAttributes)) {\n",
              "    element.style[key] = styleAttributes[key];\n",
              "  }\n",
              "  return element;\n",
              "}\n",
              "\n",
              "// Max number of bytes which will be uploaded at a time.\n",
              "const MAX_PAYLOAD_SIZE = 100 * 1024;\n",
              "\n",
              "function _uploadFiles(inputId, outputId) {\n",
              "  const steps = uploadFilesStep(inputId, outputId);\n",
              "  const outputElement = document.getElementById(outputId);\n",
              "  // Cache steps on the outputElement to make it available for the next call\n",
              "  // to uploadFilesContinue from Python.\n",
              "  outputElement.steps = steps;\n",
              "\n",
              "  return _uploadFilesContinue(outputId);\n",
              "}\n",
              "\n",
              "// This is roughly an async generator (not supported in the browser yet),\n",
              "// where there are multiple asynchronous steps and the Python side is going\n",
              "// to poll for completion of each step.\n",
              "// This uses a Promise to block the python side on completion of each step,\n",
              "// then passes the result of the previous step as the input to the next step.\n",
              "function _uploadFilesContinue(outputId) {\n",
              "  const outputElement = document.getElementById(outputId);\n",
              "  const steps = outputElement.steps;\n",
              "\n",
              "  const next = steps.next(outputElement.lastPromiseValue);\n",
              "  return Promise.resolve(next.value.promise).then((value) => {\n",
              "    // Cache the last promise value to make it available to the next\n",
              "    // step of the generator.\n",
              "    outputElement.lastPromiseValue = value;\n",
              "    return next.value.response;\n",
              "  });\n",
              "}\n",
              "\n",
              "/**\n",
              " * Generator function which is called between each async step of the upload\n",
              " * process.\n",
              " * @param {string} inputId Element ID of the input file picker element.\n",
              " * @param {string} outputId Element ID of the output display.\n",
              " * @return {!Iterable<!Object>} Iterable of next steps.\n",
              " */\n",
              "function* uploadFilesStep(inputId, outputId) {\n",
              "  const inputElement = document.getElementById(inputId);\n",
              "  inputElement.disabled = false;\n",
              "\n",
              "  const outputElement = document.getElementById(outputId);\n",
              "  outputElement.innerHTML = '';\n",
              "\n",
              "  const pickedPromise = new Promise((resolve) => {\n",
              "    inputElement.addEventListener('change', (e) => {\n",
              "      resolve(e.target.files);\n",
              "    });\n",
              "  });\n",
              "\n",
              "  const cancel = document.createElement('button');\n",
              "  inputElement.parentElement.appendChild(cancel);\n",
              "  cancel.textContent = 'Cancel upload';\n",
              "  const cancelPromise = new Promise((resolve) => {\n",
              "    cancel.onclick = () => {\n",
              "      resolve(null);\n",
              "    };\n",
              "  });\n",
              "\n",
              "  // Wait for the user to pick the files.\n",
              "  const files = yield {\n",
              "    promise: Promise.race([pickedPromise, cancelPromise]),\n",
              "    response: {\n",
              "      action: 'starting',\n",
              "    }\n",
              "  };\n",
              "\n",
              "  cancel.remove();\n",
              "\n",
              "  // Disable the input element since further picks are not allowed.\n",
              "  inputElement.disabled = true;\n",
              "\n",
              "  if (!files) {\n",
              "    return {\n",
              "      response: {\n",
              "        action: 'complete',\n",
              "      }\n",
              "    };\n",
              "  }\n",
              "\n",
              "  for (const file of files) {\n",
              "    const li = document.createElement('li');\n",
              "    li.append(span(file.name, {fontWeight: 'bold'}));\n",
              "    li.append(span(\n",
              "        `(${file.type || 'n/a'}) - ${file.size} bytes, ` +\n",
              "        `last modified: ${\n",
              "            file.lastModifiedDate ? file.lastModifiedDate.toLocaleDateString() :\n",
              "                                    'n/a'} - `));\n",
              "    const percent = span('0% done');\n",
              "    li.appendChild(percent);\n",
              "\n",
              "    outputElement.appendChild(li);\n",
              "\n",
              "    const fileDataPromise = new Promise((resolve) => {\n",
              "      const reader = new FileReader();\n",
              "      reader.onload = (e) => {\n",
              "        resolve(e.target.result);\n",
              "      };\n",
              "      reader.readAsArrayBuffer(file);\n",
              "    });\n",
              "    // Wait for the data to be ready.\n",
              "    let fileData = yield {\n",
              "      promise: fileDataPromise,\n",
              "      response: {\n",
              "        action: 'continue',\n",
              "      }\n",
              "    };\n",
              "\n",
              "    // Use a chunked sending to avoid message size limits. See b/62115660.\n",
              "    let position = 0;\n",
              "    do {\n",
              "      const length = Math.min(fileData.byteLength - position, MAX_PAYLOAD_SIZE);\n",
              "      const chunk = new Uint8Array(fileData, position, length);\n",
              "      position += length;\n",
              "\n",
              "      const base64 = btoa(String.fromCharCode.apply(null, chunk));\n",
              "      yield {\n",
              "        response: {\n",
              "          action: 'append',\n",
              "          file: file.name,\n",
              "          data: base64,\n",
              "        },\n",
              "      };\n",
              "\n",
              "      let percentDone = fileData.byteLength === 0 ?\n",
              "          100 :\n",
              "          Math.round((position / fileData.byteLength) * 100);\n",
              "      percent.textContent = `${percentDone}% done`;\n",
              "\n",
              "    } while (position < fileData.byteLength);\n",
              "  }\n",
              "\n",
              "  // All done.\n",
              "  yield {\n",
              "    response: {\n",
              "      action: 'complete',\n",
              "    }\n",
              "  };\n",
              "}\n",
              "\n",
              "scope.google = scope.google || {};\n",
              "scope.google.colab = scope.google.colab || {};\n",
              "scope.google.colab._files = {\n",
              "  _uploadFiles,\n",
              "  _uploadFilesContinue,\n",
              "};\n",
              "})(self);\n",
              "</script> "
            ]
          },
          "metadata": {}
        },
        {
          "output_type": "stream",
          "name": "stdout",
          "text": [
            "Saving io_file_myday2.txt to io_file_myday2.txt\n",
            "User uploaded file \"io_file_myday2.txt\" with length 47 bytes\n"
          ]
        }
      ]
    },
    {
      "cell_type": "markdown",
      "source": [
        "### *Remove file*"
      ],
      "metadata": {
        "id": "Jxd5AmOVgeFG"
      }
    },
    {
      "cell_type": "code",
      "source": [
        "import os\n",
        "if os.path.exists(\"myfile.txt\"):\n",
        "  os.remove(\"myfile.txt\")\n",
        "  print(\"myfile.txt removed\")\n",
        "else:\n",
        "  print(\"The file does not exist\")"
      ],
      "metadata": {
        "colab": {
          "base_uri": "https://localhost:8080/"
        },
        "id": "BWSkJYbsgit5",
        "outputId": "b6d5bd87-fc3b-41c1-a803-28d25c8865e0"
      },
      "execution_count": null,
      "outputs": [
        {
          "output_type": "stream",
          "name": "stdout",
          "text": [
            "myfile.txt removed\n"
          ]
        }
      ]
    },
    {
      "cell_type": "markdown",
      "source": [
        "### *Tạo (mkdir)/ xóa (rmdir) thư mục*"
      ],
      "metadata": {
        "id": "B6Qkj2v4gufQ"
      }
    },
    {
      "cell_type": "code",
      "source": [
        "import os\n",
        "os.listdir()\n",
        "os.mkdir(\"myfolder1\") # Tạo thư mục\n",
        "os.listdir()\n",
        "os.rmdir(\"myfolder1\") # Xóa thư mục\n",
        "os.listdir()"
      ],
      "metadata": {
        "colab": {
          "base_uri": "https://localhost:8080/"
        },
        "id": "yJlwCdKNgrL_",
        "outputId": "957f7f18-58de-403c-ca0b-c9120d5cd751"
      },
      "execution_count": null,
      "outputs": [
        {
          "output_type": "execute_result",
          "data": {
            "text/plain": [
              "['.config',\n",
              " 'io_file_myday2.txt',\n",
              " 'io_file_myday.txt',\n",
              " 'mymodule1.py',\n",
              " 'mymodule.py',\n",
              " '__pycache__',\n",
              " 'sample_data']"
            ]
          },
          "metadata": {},
          "execution_count": 57
        }
      ]
    },
    {
      "cell_type": "markdown",
      "source": [
        "## ***Try: Except: Else: Finally:***"
      ],
      "metadata": {
        "id": "zVDpkdAZhcKq"
      }
    },
    {
      "cell_type": "code",
      "source": [
        "#Python try except\n",
        "try:\n",
        "  print(x)\n",
        "except:\n",
        "  print(\"Exception Error\")"
      ],
      "metadata": {
        "colab": {
          "base_uri": "https://localhost:8080/"
        },
        "id": "-Nb8Xp0uhioN",
        "outputId": "86146535-3a1b-4118-a7a0-5c771218f2b4"
      },
      "execution_count": null,
      "outputs": [
        {
          "output_type": "stream",
          "name": "stdout",
          "text": [
            "Exception Error\n"
          ]
        }
      ]
    },
    {
      "cell_type": "code",
      "source": [
        "#Python try except finally\n",
        "try:\n",
        "  print(\"Hello\")\n",
        "except:\n",
        "  print(\"Exception Error\")\n",
        "finally:\n",
        "  print(\"Finally process\")"
      ],
      "metadata": {
        "colab": {
          "base_uri": "https://localhost:8080/"
        },
        "id": "x03hGCc2hoRO",
        "outputId": "f06db82d-c7b5-4e36-b427-8baed981d681"
      },
      "execution_count": null,
      "outputs": [
        {
          "output_type": "stream",
          "name": "stdout",
          "text": [
            "Hello\n",
            "Finally process\n"
          ]
        }
      ]
    },
    {
      "cell_type": "code",
      "source": [
        "#Python try except else\n",
        "try:\n",
        "  print(\"Hello\")\n",
        "except:\n",
        "  print(\"Exception Error\")\n",
        "else:\n",
        "  print(\"No exception\")"
      ],
      "metadata": {
        "colab": {
          "base_uri": "https://localhost:8080/"
        },
        "id": "7G93Xlfmh23d",
        "outputId": "41a63cfb-6694-4db7-e9fc-2592517738f5"
      },
      "execution_count": null,
      "outputs": [
        {
          "output_type": "stream",
          "name": "stdout",
          "text": [
            "Hello\n",
            "No exception\n"
          ]
        }
      ]
    },
    {
      "cell_type": "code",
      "source": [
        "#Python try except else finally\n",
        "try:\n",
        "  print(\"Hello\")\n",
        "except:\n",
        "  print(\"Exception Error\")\n",
        "else:\n",
        "  print(\"No exception\")\n",
        "finally:\n",
        "  print(\"Finally process\")"
      ],
      "metadata": {
        "colab": {
          "base_uri": "https://localhost:8080/"
        },
        "id": "HAd40J1xiHik",
        "outputId": "8e391ca1-aa83-4b10-b795-06a0ce41c288"
      },
      "execution_count": null,
      "outputs": [
        {
          "output_type": "stream",
          "name": "stdout",
          "text": [
            "Hello\n",
            "No exception\n",
            "Finally process\n"
          ]
        }
      ]
    },
    {
      "cell_type": "code",
      "source": [
        "try:\n",
        "  price = float(input(\"Enter the price of the stock (e.g. 10):\"))\n",
        "  shares = int(input(\"Enter the number of shares (e.g. 2):\"))\n",
        "  total = price * shares\n",
        "except Exception as e:\n",
        "  print(\"Exception error:\", str(e))\n",
        "else:\n",
        "  print(\"The total value of the shares is:\", total)\n",
        "finally:\n",
        "  print(\"Thank you.\")"
      ],
      "metadata": {
        "colab": {
          "base_uri": "https://localhost:8080/"
        },
        "id": "BqrUg550iZPU",
        "outputId": "cc3b9cf5-73c4-48a9-b8be-7d13eb31e1e4"
      },
      "execution_count": null,
      "outputs": [
        {
          "output_type": "stream",
          "name": "stdout",
          "text": [
            "Enter the price of the stock (e.g. 10):10\n",
            "Enter the number of shares (e.g. 2):2\n",
            "The total value of the shares is: 20.0\n",
            "Thank you.\n"
          ]
        }
      ]
    },
    {
      "cell_type": "code",
      "source": [
        "try:\n",
        "  file = open(\"myfile.txt\")\n",
        "  file.write(\"Python write file\")\n",
        "  print(\"file saved\")\n",
        "except:\n",
        "  print(\"Exception file Error\")"
      ],
      "metadata": {
        "colab": {
          "base_uri": "https://localhost:8080/"
        },
        "id": "8UVc92Acis8O",
        "outputId": "2a113dcd-1a59-4101-dc8f-3e12bed32772"
      },
      "execution_count": null,
      "outputs": [
        {
          "output_type": "stream",
          "name": "stdout",
          "text": [
            "Exception file Error\n"
          ]
        }
      ]
    },
    {
      "cell_type": "code",
      "source": [
        "try:\n",
        "  file = open(\"myfile.txt\") # gọi nhưng chưa có viết vào nên sẽ rơi vào except\n",
        "  file.write(\"Python write file\")\n",
        "  print(\"file saved\")\n",
        "except:\n",
        "  print(\"Exception file Error\")\n",
        "finally:\n",
        "  file.close()\n",
        "  print(\"Finally process\")"
      ],
      "metadata": {
        "colab": {
          "base_uri": "https://localhost:8080/"
        },
        "id": "nPvh3W0FjK4a",
        "outputId": "1a2cfdad-5a1c-4d99-ec52-142b1a012cb6"
      },
      "execution_count": null,
      "outputs": [
        {
          "output_type": "stream",
          "name": "stdout",
          "text": [
            "Exception file Error\n",
            "Finally process\n"
          ]
        }
      ]
    },
    {
      "cell_type": "code",
      "source": [
        "try:\n",
        "  file = open(\"myfile.txt\", 'w')\n",
        "  file.write(\"Python write file\")\n",
        "  print(\"file saved\")\n",
        "except:\n",
        "  print(\"Exception file Error\")\n",
        "finally:\n",
        "  file.close()\n",
        "  print(\"Finally process\")"
      ],
      "metadata": {
        "colab": {
          "base_uri": "https://localhost:8080/"
        },
        "id": "vU3kdjCUj3Dv",
        "outputId": "0fc5e4a7-adb2-4733-edb9-e7af73adca6f"
      },
      "execution_count": null,
      "outputs": [
        {
          "output_type": "stream",
          "name": "stdout",
          "text": [
            "file saved\n",
            "Finally process\n"
          ]
        }
      ]
    },
    {
      "cell_type": "markdown",
      "source": [
        "## **KẾT THÚC**"
      ],
      "metadata": {
        "id": "b2bEaJMMhfKY"
      }
    }
  ]
}