{
 "cells": [
  {
   "cell_type": "markdown",
   "id": "a7337bf8-568f-4208-88ca-55514667ba2e",
   "metadata": {},
   "source": [
    "# CÁC VẤN ĐỀ NÂNG CAO TRONG PYTHON"
   ]
  },
  {
   "cell_type": "markdown",
   "id": "2a0830a2-2830-40fa-89fb-11178df44842",
   "metadata": {},
   "source": [
    "## Xử lý tập tin và thư mục"
   ]
  },
  {
   "cell_type": "markdown",
   "id": "3a53f3f5-1b34-4b8f-a3d5-e6468f9bcd79",
   "metadata": {},
   "source": [
    "### Thao tác cơ bản trên thư mục"
   ]
  },
  {
   "cell_type": "code",
   "execution_count": 1,
   "id": "d2f30044-d696-4e34-8b22-d6cf37b279c0",
   "metadata": {},
   "outputs": [],
   "source": [
    "import os\n",
    "import tempfile"
   ]
  },
  {
   "cell_type": "code",
   "execution_count": 2,
   "id": "c078e42d-7dca-4059-a14e-70776f79e7e1",
   "metadata": {},
   "outputs": [
    {
     "name": "stdout",
     "output_type": "stream",
     "text": [
      "D:\\Năm 4\\HK1\\Phân tích dữ liệu\\sgu25_NguyenHoangMaiVy_3122410490\\Lab2\n"
     ]
    }
   ],
   "source": [
    "# Lấy thư mục hiện tại đang làm việc\n",
    "cwd = os.getcwd()\n",
    "print(cwd)\n",
    "\n",
    "# Thay đổi thư mục hiện tại đang làm việc\n",
    "os.chdir(cwd)"
   ]
  },
  {
   "cell_type": "code",
   "execution_count": 3,
   "id": "8e93362d-845a-4a2b-9b53-ff7154c4fb41",
   "metadata": {},
   "outputs": [
    {
     "name": "stdout",
     "output_type": "stream",
     "text": [
      "C:\\Users\\MZI\\AppData\\Local\\Temp\n",
      "C:\\Users\\MZI\\AppData\\Local\\Temp\\foobar\n"
     ]
    }
   ],
   "source": [
    "# Lấy thư mục tạm của hệ thống\n",
    "tmpdir = tempfile.gettempdir()\n",
    "print(tmpdir)\n",
    "\n",
    "# Nối các đường dẫn thư mục\n",
    "mytmpdir = os.path.join(tmpdir, \"foobar\")\n",
    "print(mytmpdir)"
   ]
  },
  {
   "cell_type": "code",
   "execution_count": 4,
   "id": "e609204e-29e7-4509-b70b-d6253b83d626",
   "metadata": {},
   "outputs": [
    {
     "name": "stdout",
     "output_type": "stream",
     "text": [
      "C:\\Users\\MZI\\AppData\\Local\\Temp\\foobar\n"
     ]
    },
    {
     "data": {
      "text/plain": [
       "['plop']"
      ]
     },
     "execution_count": 4,
     "metadata": {},
     "output_type": "execute_result"
    }
   ],
   "source": [
    "# Tạo một đường dẫn thư mục {tmpdir}/foobar/plop/toto (sẽ tạo luôn thư mục trung gian nếu chưa có)\n",
    "os.makedirs(os.path.join(tmpdir, \"foobar\", \"plop\", \"toto\"), exist_ok=True)\n",
    "\n",
    "# liệt kê nội dung thư mục\n",
    "print(mytmpdir)\n",
    "os.listdir(mytmpdir)"
   ]
  },
  {
   "cell_type": "markdown",
   "id": "48bb8e9e-b43d-4678-8d9b-20259a263f47",
   "metadata": {},
   "source": [
    "### Nhập/xuất tập tin"
   ]
  },
  {
   "cell_type": "code",
   "execution_count": 5,
   "id": "7060398b-5725-40f6-a498-2197840d1d82",
   "metadata": {},
   "outputs": [
    {
     "name": "stdout",
     "output_type": "stream",
     "text": [
      "C:\\Users\\MZI\\AppData\\Local\\Temp\\foobar\\myfile.txt\n"
     ]
    }
   ],
   "source": [
    "# Tạo đường dẫn tới tập tin {mytmpdir}/myfile.txt\n",
    "filename = os.path.join(mytmpdir, \"myfile.txt\")\n",
    "print(filename)\n",
    "\n",
    "# Ghi nội dung tập tin theo từng dòng\n",
    "lines = [\"Dans python tout est bon\", \"Enfin, presque\"]\n",
    "fd = open(filename, \"w\") # Mở tập tin\n",
    "fd.write(lines[0] + \"\\n\") # Ghi nội dung\n",
    "fd.write(lines[1]+ \"\\n\")\n",
    "fd.close() # Đóng tập tin\n",
    "\n",
    "# Đọc nội dung tập tin\n",
    "f = open(filename, \"r\") # Mở tập tin để đọc\n",
    "f.readline() # Đọc dòng đầu (bao gồm dấu xuống dòng)\n",
    "f.readline() # Đọc dòng kế\n",
    "f.close()\n",
    "\n",
    "# Đọc tất cả dòng trong tập tin\n",
    "f = open(filename, 'r')\n",
    "f.readlines() # Đọc tất cả dòng, trả về một list chứa tất cả các dòng\n",
    "f.close()\n",
    "\n",
    "# Sử dụng đối tượng context để tự động đóng tập tin\n",
    "with open(filename, 'r') as f:\n",
    "    lines = [line for line in f]"
   ]
  },
  {
   "cell_type": "markdown",
   "id": "ede4d315-c19d-4cc0-bd58-4f8fbc90add2",
   "metadata": {},
   "source": [
    "### Duyệt tập tin, thư mục"
   ]
  },
  {
   "cell_type": "code",
   "execution_count": 6,
   "id": "2b3cef04-d0ab-4a16-af3a-cda49b22fe08",
   "metadata": {},
   "outputs": [
    {
     "name": "stdout",
     "output_type": "stream",
     "text": [
      "+ Thư mục đang duyệt: C:\\Users\\MZI\\AppData\\Local\\Temp\\foobar\n",
      "  - Các thư mục con: ['plop']\n",
      "  - Các tập tin bên trong: ['myfile.txt']\n",
      "+ Thư mục đang duyệt: C:\\Users\\MZI\\AppData\\Local\\Temp\\foobar\\plop\n",
      "  - Các thư mục con: ['toto']\n",
      "  - Các tập tin bên trong: []\n",
      "+ Thư mục đang duyệt: C:\\Users\\MZI\\AppData\\Local\\Temp\\foobar\\plop\\toto\n",
      "  - Các thư mục con: []\n",
      "  - Các tập tin bên trong: []\n"
     ]
    }
   ],
   "source": [
    "# Duyệt nội dung một thư mục (đệ quy)\n",
    "\n",
    "folder = os.path.join(tmpdir, \"foobar\")\n",
    "\n",
    "for dirpath, dirnames, filenames in os.walk(folder):\n",
    "    print(f\"+ Thư mục đang duyệt: {dirpath}\")\n",
    "    print(f\"  - Các thư mục con: {dirnames}\")\n",
    "    print(f\"  - Các tập tin bên trong: {filenames}\")"
   ]
  },
  {
   "cell_type": "markdown",
   "id": "1f024562-cf62-4e67-9dbc-e48e07ec5c22",
   "metadata": {},
   "source": [
    "### Tìm kiếm tập tin theo mẫu"
   ]
  },
  {
   "cell_type": "code",
   "execution_count": 7,
   "id": "9d0fe3be-8525-4890-a72c-966d66e495e6",
   "metadata": {},
   "outputs": [
    {
     "name": "stdout",
     "output_type": "stream",
     "text": [
      "['C:\\\\Users\\\\MZI\\\\AppData\\\\Local\\\\Temp\\\\foobar\\\\myfile.txt']\n"
     ]
    }
   ],
   "source": [
    "import tempfile\n",
    "import glob\n",
    "\n",
    "tmpdir = tempfile.gettempdir()\n",
    "\n",
    "# Tìm tất cả tập tin có dạng đường dẫn {tmpdir}/*/*.txt\n",
    "filenames = glob.glob(os.path.join(tmpdir, \"*\", \"*.txt\"))\n",
    "print(filenames)"
   ]
  },
  {
   "cell_type": "code",
   "execution_count": 8,
   "id": "5a9d4027-b3b7-4d75-8fa3-08df880cfa46",
   "metadata": {},
   "outputs": [
    {
     "name": "stdout",
     "output_type": "stream",
     "text": [
      "File Path: C:\\Users\\MZI\\AppData\\Local\\Temp\\foobar\\myfile.txt\n",
      "Directory: C:\\Users\\MZI\\AppData\\Local\\Temp\\foobar - Filename: myfile.txt\n",
      "Basename: myfile - Extension: .txt\n"
     ]
    }
   ],
   "source": [
    "# lấy thông tin tập tin\n",
    "filepath = filenames[0]\n",
    "print(f\"File Path: {filepath}\")\n",
    "\n",
    "dirname, filename = os.path.split(filepath)\n",
    "print(f\"Directory: {dirname} - Filename: {filename}\")\n",
    "\n",
    "basename, extfile = os.path.splitext(filename)\n",
    "print(f\"Basename: {basename} - Extension: {extfile}\")"
   ]
  },
  {
   "cell_type": "markdown",
   "id": "7b451e70-e17e-4fef-9aec-46e7fa2d3555",
   "metadata": {},
   "source": [
    "### Sao chép tập tin, thư mục"
   ]
  },
  {
   "cell_type": "code",
   "execution_count": 9,
   "id": "11eb1c59-5daf-47e0-b43a-e40f6f9f9b9f",
   "metadata": {},
   "outputs": [
    {
     "name": "stdout",
     "output_type": "stream",
     "text": [
      "copy C:\\Users\\MZI\\AppData\\Local\\Temp\\foobar\\myfile.txt to C:\\Users\\MZI\\AppData\\Local\\Temp\\foobar\\plop\\myfile.txt\n",
      "File C:\\Users\\MZI\\AppData\\Local\\Temp\\foobar\\plop\\myfile.txt exists ? True\n",
      "copy tree C:\\Users\\MZI\\AppData\\Local\\Temp\\foobar\\plop under C:\\Users\\MZI\\AppData\\Local\\Temp\\plop2\n"
     ]
    }
   ],
   "source": [
    "import shutil\n",
    "\n",
    "src = os.path.join(tmpdir, \"foobar\", \"myfile.txt\")\n",
    "dst = os.path.join(tmpdir, \"foobar\", \"plop\", \"myfile.txt\")\n",
    "print(\"copy %s to %s\" % (src, dst))\n",
    "\n",
    "# Sao chép tập tin\n",
    "shutil.copy(src, dst)\n",
    "\n",
    "# Kiểm tra sự tồn tại\n",
    "print(\"File %s exists ?\" % dst, os.path.exists(dst))\n",
    "\n",
    "src = os.path.join(tmpdir, \"foobar\", \"plop\")\n",
    "dst = os.path.join(tmpdir, \"plop2\")\n",
    "\n",
    "print(\"copy tree %s under %s\" % (src, dst))\n",
    "\n",
    "# Sao chép, xóa, di chuyển thư mục\n",
    "try:\n",
    "    shutil.copytree(src, dst)\n",
    "    shutil.rmtree(dst)\n",
    "    shutil.move(src, dst)\n",
    "except (FileExistsError, FileNotFoundError) as e:\n",
    "    pass"
   ]
  },
  {
   "cell_type": "markdown",
   "id": "7432c9c9-bfaa-4f56-a15d-ffc970074122",
   "metadata": {},
   "source": [
    "## Lập trình hướng đối tượng\n",
    "\n",
    "**Các nguyên lý hướng đối tượng**:\n",
    "+ **Encapsulate** (Tính bao gộp): đóng gói dữ liệu (attributes) và mã nguồn (methods) vào thành các đối tượng.\n",
    "+ **Class**: biểu mẫu để tạo các đối tượng riêng biệt có cùng dạng dữ liệu và mã nguồn.\n",
    "+ **Object**: một thực thể xác định của một Class.\n",
    "+ **Inheritance** (Tính kế thừa): cho phép các lớp được kế thừa các trạng thái và hành vi chung của lớp cha (tái sử dụng mã nguồn)\n",
    "+ **Polymorphism** (Tính đa hình): gọi phương thức tương ứng với thực thể đang sở hữu nó dù nó kế thừa phương thức đó từ lớp cha (giúp chương trình có tính khả mở - nghĩa là người lập trình có thể kế thừa và khai báo lại phương thức từ lớp cha với hành vi xử lý mới)."
   ]
  },
  {
   "cell_type": "code",
   "execution_count": 10,
   "id": "5ab28169-29f7-4105-b411-3528d7c947d7",
   "metadata": {},
   "outputs": [
    {
     "name": "stdout",
     "output_type": "stream",
     "text": [
      "[4, 28.274333882308138]\n",
      "NotImplementedError \n"
     ]
    }
   ],
   "source": [
    "import math\n",
    "\n",
    "# Xây dựng đối tượng cha\n",
    "class Shape2D:\n",
    "    def area(self): # Có 1 hàm dùng chung area\n",
    "        raise NotImplementedError()\n",
    "\n",
    "# Inheritance + Encapsulation (Kế thừa và tính bao gộp)\n",
    "class Square(Shape2D): # Kế thừa từ Shape2D\n",
    "    def __init__(self, width): # Khai báo hàm tạo\n",
    "        self.width = width\n",
    "    \n",
    "    def area(self): # Tính đa hình, override lại area của Lớp Shape2D\n",
    "        return self.width ** 2\n",
    "\n",
    "class Disk(Shape2D):\n",
    "    def __init__(self, radius): # Hàm tạo\n",
    "        self.radius = radius\n",
    "    \n",
    "    def area(self): # Tính đa hình, override lại area của Lớp Shape2D\n",
    "        return math.pi * self.radius ** 2\n",
    "\n",
    "shapes = [Square(2), Disk(3)]\n",
    "\n",
    "# Polymorphism (Tính đa hình\n",
    "print([s.area() for s in shapes]) # sẽ gọi phương thức area của lớp tương ứng (Square, Disk)\n",
    "s = Shape2D()\n",
    "try:\n",
    "    s.area() \n",
    "except NotImplementedError as e:\n",
    "    print(\"NotImplementedError\", e)"
   ]
  },
  {
   "cell_type": "markdown",
   "id": "b2c76f92-5f58-4829-9d36-8aa28fb2e506",
   "metadata": {},
   "source": [
    "# THƯ VIỆN TÍNH TOÁN KHOA HỌC"
   ]
  },
  {
   "cell_type": "markdown",
   "id": "15d6a109-79d7-477b-83be-5bc75e1ee1bd",
   "metadata": {},
   "source": [
    "## Numpy: thư viện xử lý mảng và ma trận\n",
    "\n",
    "https://numpy.org/doc/stable/reference/index.html"
   ]
  },
  {
   "cell_type": "code",
   "execution_count": 11,
   "id": "4859e0c4-4626-4086-9747-fe49e923dfc0",
   "metadata": {},
   "outputs": [],
   "source": [
    "from __future__ import print_function\n",
    "import numpy as np"
   ]
  },
  {
   "cell_type": "markdown",
   "id": "874d5cd2-ab4d-4d4e-b7a8-be5d80e766ba",
   "metadata": {},
   "source": [
    "### Tạo mảng"
   ]
  },
  {
   "cell_type": "code",
   "execution_count": 12,
   "id": "8f35da1f-a5f4-4c29-853d-4001783ff615",
   "metadata": {},
   "outputs": [
    {
     "name": "stdout",
     "output_type": "stream",
     "text": [
      "arr1: <class 'numpy.ndarray'>\n",
      "[1 2 3 4 5]\n",
      "\n",
      "arr2: <class 'numpy.ndarray'>\n",
      "[[1 2 3 4]\n",
      " [5 6 7 8]]\n",
      "\n",
      "List: <class 'list'> [[1, 2, 3, 4], [5, 6, 7, 8]]\n"
     ]
    }
   ],
   "source": [
    "# Tạo mảng\n",
    "data1 = [1, 2, 3, 4, 5]            # cho danh sách\n",
    "arr1 = np.array(data1)             # tạo mảng từ danh sách\n",
    "print(f\"arr1: {type(arr1)}\\n{arr1}\\n\")\n",
    "\n",
    "data2 = [range(1, 5), range(5, 9)] # cho danh sách các mảng\n",
    "arr2 = np.array(data2)             # tạo mảng 2 chiều\n",
    "print(f\"arr2: {type(arr2)}\\n{arr2}\\n\")\n",
    "\n",
    "lst = arr2.tolist()                      # chuyển đổi trở lại danh sách\n",
    "print(f'List: {type(lst)} {lst}')"
   ]
  },
  {
   "cell_type": "markdown",
   "id": "20c984e1-db37-4246-bde0-67430b141261",
   "metadata": {},
   "source": [
    "### Tạo mảng đặc biệt"
   ]
  },
  {
   "cell_type": "code",
   "execution_count": 13,
   "id": "460b5321-7775-4386-88fb-e1cc63d4c48b",
   "metadata": {},
   "outputs": [
    {
     "data": {
      "text/plain": [
       "array([   1.,   10.,  100., 1000.])"
      ]
     },
     "execution_count": 13,
     "metadata": {},
     "output_type": "execute_result"
    }
   ],
   "source": [
    "np.zeros(10)           # Mảng 1 chiều có 10 phần tử  với giá trị 0\n",
    "np.zeros((3, 6))       # Mảng 2 chiều (3 dòng, 6 cột) với giá trị 0\n",
    "np.ones(10)            # Mảng 10 phần tử giá trị 1\n",
    "np.linspace(0, 1, 5)   # 0 to 1 (inclusive) with 5 points\n",
    "np.logspace(0, 3, 4)   # 10^0 to 10^3 (inclusive) with 4 points"
   ]
  },
  {
   "cell_type": "code",
   "execution_count": 14,
   "id": "b176d3f4-383b-4e92-8ed4-e1bc085abb96",
   "metadata": {},
   "outputs": [
    {
     "name": "stdout",
     "output_type": "stream",
     "text": [
      "[0. 1. 2. 3. 4.]\n"
     ]
    }
   ],
   "source": [
    "int_array = np.arange(5)  # Tạo mảng chứa giá trị từ [0, 1, 2, ..., 4]\n",
    "float_array = int_array.astype(float) # Ép sang mảng có kiểu số thực\n",
    "print(float_array)"
   ]
  },
  {
   "cell_type": "markdown",
   "id": "4aabadd8-4001-43a5-ad27-39a8fd47f6f1",
   "metadata": {},
   "source": [
    "### Kiểm tra tính chất mảng"
   ]
  },
  {
   "cell_type": "code",
   "execution_count": 15,
   "id": "6294da7c-063f-481c-9288-681097e2dc25",
   "metadata": {},
   "outputs": [
    {
     "data": {
      "text/plain": [
       "2"
      ]
     },
     "execution_count": 15,
     "metadata": {},
     "output_type": "execute_result"
    }
   ],
   "source": [
    "arr1.dtype          # kiểm tra kiểu: float64\n",
    "arr2.ndim           # kiểm tra số chiều: 2\n",
    "arr2.shape          # kiểm tra hình dáng mảng: 2 chiều (2,4) với 2 dòng 4 cột\n",
    "arr2.size           # tổng số phần tử trong mảng: 8\n",
    "len(arr2)           # độ dài của chiều đầu tiên: 2"
   ]
  },
  {
   "cell_type": "markdown",
   "id": "cf4e8ea4-b961-41c4-8cc7-512c55cc8c8b",
   "metadata": {},
   "source": [
    "### Biến đổi hình dạng mảng (Reshape)"
   ]
  },
  {
   "cell_type": "code",
   "execution_count": 16,
   "id": "5aea679c-e65f-4e7e-b221-3a9f96d87f72",
   "metadata": {},
   "outputs": [
    {
     "name": "stdout",
     "output_type": "stream",
     "text": [
      "[0. 1. 2. 3. 4. 5. 6. 7. 8. 9.]\n",
      "(2, 5)\n",
      "[[0. 1. 2. 3. 4.]\n",
      " [5. 6. 7. 8. 9.]]\n"
     ]
    }
   ],
   "source": [
    "arr = np.arange(10, dtype=float) # Tạo mảng số thực từ [0, 1, ..., 9] shape (10,) \n",
    "print(arr)\n",
    "arr = arr.reshape((2, 5)) # chuyển thành shape (2,5)\n",
    "print(arr.shape)\n",
    "print(arr)"
   ]
  },
  {
   "cell_type": "code",
   "execution_count": 17,
   "id": "9e509027-44ae-42f2-b36e-0d017db437fb",
   "metadata": {},
   "outputs": [
    {
     "name": "stdout",
     "output_type": "stream",
     "text": [
      "Before:  [0 1]  - Shape= (2,)\n",
      "After: Shape= (2, 1) \n",
      " [[0]\n",
      " [1]]\n",
      "Transpose: Shape= (1, 2)  -  [[0 1]]\n"
     ]
    }
   ],
   "source": [
    "# Thêm một chiều mới\n",
    "a = np.array([0, 1])\n",
    "print(\"Before: \", a, \" - Shape=\", a.shape)\n",
    "a_col = a[:, np.newaxis] \n",
    "# hoặc \n",
    "a_col = a[:, None]\n",
    "print(\"After: Shape=\", a_col.shape, \"\\n\", a_col)\n",
    "\n",
    "# Đảo mảng (Transpose)\n",
    "print(\"Transpose: Shape=\", a_col.T.shape, \" - \", a_col.T)"
   ]
  },
  {
   "cell_type": "code",
   "execution_count": 18,
   "id": "e750dac4-32de-44b0-9fb7-c600368f289f",
   "metadata": {},
   "outputs": [
    {
     "name": "stdout",
     "output_type": "stream",
     "text": [
      "[33.  1.  2.  3.  4.  5.  6.  7.  8.  9.]\n",
      "[[0. 1. 2. 3. 4.]\n",
      " [5. 6. 7. 8. 9.]]\n"
     ]
    }
   ],
   "source": [
    "# Flatten trả về phiên bản sao chép của mảng ban đầu với 1 chiều\n",
    "arr_flt = arr.flatten()\n",
    "arr_flt[0] = 33\n",
    "print(arr_flt)\n",
    "print(arr)"
   ]
  },
  {
   "cell_type": "code",
   "execution_count": 19,
   "id": "99a7af07-5164-4ad0-9c22-ef01eaa9812f",
   "metadata": {},
   "outputs": [
    {
     "name": "stdout",
     "output_type": "stream",
     "text": [
      "[33.  1.  2.  3.  4.  5.  6.  7.  8.  9.]\n",
      "[[33.  1.  2.  3.  4.]\n",
      " [ 5.  6.  7.  8.  9.]]\n"
     ]
    }
   ],
   "source": [
    "# Trả về một view của mảng ban đầu với 1 chiều\n",
    "arr_flt = arr.ravel()\n",
    "arr_flt[0] = 33\n",
    "print(arr_flt)\n",
    "print(arr)"
   ]
  },
  {
   "cell_type": "markdown",
   "id": "ba7e6a6e-a2c2-4ae2-ba59-233a18cd6c75",
   "metadata": {},
   "source": [
    "### Truy xuất trên mảng"
   ]
  },
  {
   "cell_type": "markdown",
   "id": "51e0e1ab-752d-4f05-a382-ef3152dc4589",
   "metadata": {},
   "source": [
    "![](img1.png)"
   ]
  },
  {
   "cell_type": "code",
   "execution_count": 20,
   "id": "c39e5f00-c7c0-478d-a7d1-66d40910e32e",
   "metadata": {},
   "outputs": [
    {
     "name": "stdout",
     "output_type": "stream",
     "text": [
      "x: (24,) - [ 0  1  2  3  4  5  6  7  8  9 10 11 12 13 14 15 16 17 18 19 20 21 22 23]\n",
      "x: (2, 3, 4)\n",
      "[[[ 0  1  2  3]\n",
      "  [ 4  5  6  7]\n",
      "  [ 8  9 10 11]]\n",
      "\n",
      " [[12 13 14 15]\n",
      "  [16 17 18 19]\n",
      "  [20 21 22 23]]]\n"
     ]
    }
   ],
   "source": [
    "# Khai báo mảng [0, 1, ..., 2 * 3 * 4)\n",
    "x = np.arange(2 * 3 * 4)\n",
    "print(f\"x: {x.shape} - {x}\")\n",
    "\n",
    "x = x.reshape(2, 3, 4)\n",
    "print(f'x: {x.shape}\\n{x}')"
   ]
  },
  {
   "cell_type": "code",
   "execution_count": 21,
   "id": "b127b764-b509-42b2-885f-b561f3a1cc85",
   "metadata": {},
   "outputs": [
    {
     "name": "stdout",
     "output_type": "stream",
     "text": [
      "[[ 0  1  2  3]\n",
      " [ 4  5  6  7]\n",
      " [ 8  9 10 11]]\n"
     ]
    }
   ],
   "source": [
    "# Chọn các phần tử ở vị trí 0 trên axis 0 (mặt đầu tiên)\n",
    "print(x[0, :, :])"
   ]
  },
  {
   "cell_type": "code",
   "execution_count": 22,
   "id": "915405ee-54cb-4a75-bc43-7d352d4bad31",
   "metadata": {},
   "outputs": [
    {
     "name": "stdout",
     "output_type": "stream",
     "text": [
      "[[ 0  1  2  3]\n",
      " [12 13 14 15]]\n"
     ]
    }
   ],
   "source": [
    "# Chọn các phần tử ở vị trí 0 trên axis 1 (dòng đầu tiên)\n",
    "print(x[:, 0, :])"
   ]
  },
  {
   "cell_type": "code",
   "execution_count": 23,
   "id": "34b5fb52-6e55-466a-8587-db3670c2dfd4",
   "metadata": {},
   "outputs": [
    {
     "name": "stdout",
     "output_type": "stream",
     "text": [
      "[[ 0  4  8]\n",
      " [12 16 20]]\n"
     ]
    }
   ],
   "source": [
    "# Chọn các phần tử ở vị trí 0 trên axis 2 (cột đầu tiên)\n",
    "print(x[:, :, 0])"
   ]
  },
  {
   "cell_type": "markdown",
   "id": "316cbedd-1b12-4368-b1dd-60e0fc042bed",
   "metadata": {},
   "source": [
    "### Ghép 2 mảng"
   ]
  },
  {
   "cell_type": "code",
   "execution_count": 24,
   "id": "acec412d-d06b-4ed2-ae27-f47b69d8d6eb",
   "metadata": {},
   "outputs": [
    {
     "name": "stdout",
     "output_type": "stream",
     "text": [
      "a: [0 1]\n",
      "b: [2 3]\n"
     ]
    }
   ],
   "source": [
    "a = np.array([0, 1])\n",
    "b = np.array([2, 3])\n",
    "print(f'a: {a}')\n",
    "print(f'b: {b}')"
   ]
  },
  {
   "cell_type": "code",
   "execution_count": 25,
   "id": "704149e4-f670-450e-a672-1395a2538300",
   "metadata": {},
   "outputs": [
    {
     "data": {
      "text/plain": [
       "array([0, 1, 2, 3])"
      ]
     },
     "execution_count": 25,
     "metadata": {},
     "output_type": "execute_result"
    }
   ],
   "source": [
    "# Horizontal stacking\n",
    "np.hstack([a, b])"
   ]
  },
  {
   "cell_type": "code",
   "execution_count": 26,
   "id": "5150a3f0-3063-4f86-96db-2f9e698c05aa",
   "metadata": {},
   "outputs": [
    {
     "data": {
      "text/plain": [
       "array([[0, 1],\n",
       "       [2, 3]])"
      ]
     },
     "execution_count": 26,
     "metadata": {},
     "output_type": "execute_result"
    }
   ],
   "source": [
    "# Vertical stacking\n",
    "np.vstack([a, b])"
   ]
  },
  {
   "cell_type": "markdown",
   "id": "f457eeda-6157-491c-a202-df45128aafd7",
   "metadata": {},
   "source": [
    "### Chọn lựa trên mảng"
   ]
  },
  {
   "cell_type": "code",
   "execution_count": 27,
   "id": "7461bb6a-f7c0-4318-bf12-15dedf156d9a",
   "metadata": {},
   "outputs": [
    {
     "name": "stdout",
     "output_type": "stream",
     "text": [
      "[[0. 1. 2. 3. 4.]\n",
      " [5. 6. 7. 8. 9.]]\n",
      "[0. 1. 2. 3. 4.]\n",
      "3.0\n",
      "3.0\n"
     ]
    }
   ],
   "source": [
    "# Một phần tử\n",
    "arr = np.arange(10, dtype=float).reshape((2, 5))\n",
    "print(arr)\n",
    "print(arr[0])    # các phẩn tử ở dòng 0 (trảslices like a list)\n",
    "print(arr[0, 3]) # dòng 0, cột 3 --> 3\n",
    "print(arr[0][3])  # hay cách khác"
   ]
  },
  {
   "cell_type": "code",
   "execution_count": 28,
   "id": "98d39f49-d246-4517-86cc-de1cde4bf0a9",
   "metadata": {},
   "outputs": [
    {
     "name": "stdout",
     "output_type": "stream",
     "text": [
      "[[1. 2. 3.]\n",
      " [6. 7. 8.]]\n"
     ]
    }
   ],
   "source": [
    "# Slicing\n",
    "# Cú pháp: start:stop:step with start (default 0) stop (default last) step (default 1)\n",
    "arr[0, :]          # dòng 0 --> 1d array ([1, 2, 3, 4])\n",
    "arr[:, 0]          # cột  0 --> 1d array ([1, 5])\n",
    "arr[:, :2]         # các cột trước vị trí 2 (2 cột đầu tiên)\n",
    "arr[:, 2:]         # các cột từ vị trí 2 trở đi\n",
    "arr2 = arr[:, 1:4] # các cột từ 1 đến dưới 4 (1, 2, 3)\n",
    "print(arr2)"
   ]
  },
  {
   "cell_type": "code",
   "execution_count": 29,
   "id": "8d640a60-cea4-41ed-bdff-fb0c248a81f8",
   "metadata": {},
   "outputs": [
    {
     "name": "stdout",
     "output_type": "stream",
     "text": [
      "[[33.  2.  3.]\n",
      " [ 6.  7.  8.]]\n",
      "[[ 0. 33.  2.  3.  4.]\n",
      " [ 5.  6.  7.  8.  9.]]\n"
     ]
    }
   ],
   "source": [
    "# Hiệu chỉnh một phần tử (Slicing trả về 1 view nên có thê hiệu chỉnh)\n",
    "arr2[0, 0] = 33\n",
    "print(arr2)\n",
    "print(arr)"
   ]
  },
  {
   "cell_type": "code",
   "execution_count": 30,
   "id": "bc44547a-cdce-43d5-8ff8-5e8740f8ce1f",
   "metadata": {},
   "outputs": [
    {
     "name": "stdout",
     "output_type": "stream",
     "text": [
      "[ 4.  3.  2. 33.  0.]\n"
     ]
    }
   ],
   "source": [
    "# Đảo chiều của dòng 0\n",
    "print(arr[0, ::-1])"
   ]
  },
  {
   "cell_type": "code",
   "execution_count": 31,
   "id": "78522b7b-7691-413d-843c-18684574d978",
   "metadata": {},
   "outputs": [
    {
     "name": "stdout",
     "output_type": "stream",
     "text": [
      "[[33.  2.  3.]\n",
      " [ 6.  7.  8.]]\n",
      "[[44.  2.  3.]\n",
      " [ 6.  7.  8.]]\n",
      "[[ 0. 33.  2.  3.  4.]\n",
      " [ 5.  6.  7.  8.  9.]]\n"
     ]
    }
   ],
   "source": [
    "# Fancy indexing: Integer or boolean array indexing\n",
    "# Trả về một sao chép dựa trên mặt nạ int hay bool\n",
    "arr2 = arr[:, [1, 2, 3]] # trả về một sao chép (các phần tử ở cột 1, 2, 3)\n",
    "print(arr2)\n",
    "arr2[0, 0] = 44\n",
    "print(arr2)\n",
    "print(arr)"
   ]
  },
  {
   "cell_type": "code",
   "execution_count": 32,
   "id": "eb52b258-6b53-420f-98cc-285fffafbd5d",
   "metadata": {},
   "outputs": [
    {
     "name": "stdout",
     "output_type": "stream",
     "text": [
      "Bool Index: \n",
      "[[False  True False False False]\n",
      " [False  True  True  True  True]]\n",
      "arr2: \n",
      "[33.  6.  7.  8.  9.]\n",
      "arr2: \n",
      "[44.  6.  7.  8.  9.]\n",
      "arr: \n",
      "[[ 0. 33.  2.  3.  4.]\n",
      " [ 5.  6.  7.  8.  9.]]\n"
     ]
    }
   ],
   "source": [
    "# Boolean arrays indexing\n",
    "b_filter = arr > 5\n",
    "print(f\"Bool Index: \\n{b_filter}\")\n",
    "\n",
    "arr2 = arr[b_filter]  # return a copy (các phần tử có giá trị lớn hơn 5\n",
    "print(f\"arr2: \\n{arr2}\")\n",
    "\n",
    "arr2[0] = 44\n",
    "print(f\"arr2: \\n{arr2}\")\n",
    "print(f\"arr: \\n{arr}\")"
   ]
  },
  {
   "cell_type": "code",
   "execution_count": 33,
   "id": "24fca413-7cf8-4a83-8c40-c8c91593c24b",
   "metadata": {},
   "outputs": [
    {
     "name": "stdout",
     "output_type": "stream",
     "text": [
      "Bool Index: \n",
      "[ True False False  True]\n",
      "arr1: \n",
      "['Joe' 'Will']\n",
      "Bool Index 1: \n",
      "[ True False  True  True]\n",
      "names: \n",
      "['Bob' 'Joe' 'Joe' 'Bob']\n",
      "unique: \n",
      "['Bob' 'Joe']\n"
     ]
    }
   ],
   "source": [
    "names = np.array(['Bob', 'Joe', 'Will', 'Bob'])\n",
    "\n",
    "b_filter = names == 'Bob'  # Tạo Bool Index\n",
    "print(f\"Bool Index: \\n{b_filter}\")\n",
    "\n",
    "arr1 = names[names != 'Bob']  # lấy phần tử dựa trên Bool Index\n",
    "print(f\"arr1: \\n{arr1}\")\n",
    "\n",
    "b_filter1 = (names == 'Bob') | (names == 'Will') # dùng toán tử or\n",
    "print(f\"Bool Index 1: \\n{b_filter1}\")\n",
    "\n",
    "names[names != 'Bob'] = 'Joe' # Thay đổi nội dung dựa vào Bool Index\n",
    "print(f\"names: \\n{names}\")\n",
    "\n",
    "arr2 = np.unique(names)\n",
    "print(f\"unique: \\n{arr2}\")"
   ]
  },
  {
   "cell_type": "markdown",
   "id": "d83bd81b-7808-4898-b56e-7b3486c39ea0",
   "metadata": {},
   "source": [
    "### Các phép toán trên mảng"
   ]
  },
  {
   "cell_type": "code",
   "execution_count": 34,
   "id": "fde92d1d-ae5c-4813-8e76-4ab9b9b10f05",
   "metadata": {},
   "outputs": [
    {
     "data": {
      "text/plain": [
       "array([0, 0, 0, 1, 1, 0, 1, 1, 1, 1], dtype=int32)"
      ]
     },
     "execution_count": 34,
     "metadata": {},
     "output_type": "execute_result"
    }
   ],
   "source": [
    "nums = np.arange(5)\n",
    "nums * 10                       # phép nhân từng phần tử \n",
    "nums = np.sqrt(nums)            # lấy bình phương từng phần tử\n",
    "np.ceil(nums)                   # also floor, rint (round to nearest int)\n",
    "np.isnan(nums)                  # checks for NaN\n",
    "nums + np.arange(5)             # add element-wise\n",
    "np.maximum(nums, np.array([1, -2, 3, -4, 5])) # compare element-wise\n",
    "\n",
    "# Compute Euclidean distance between 2 vectors\n",
    "vec1 = np.random.randn(10)\n",
    "vec2 = np.random.randn(10)\n",
    "dist = np.sqrt(np.sum((vec1 - vec2) ** 2))\n",
    "\n",
    "# math and stats\n",
    "rnd = np.random.randn(4, 2) # random normals in 4x2 array\n",
    "rnd.mean()\n",
    "rnd.std()\n",
    "rnd.argmin() # index of minimum element\n",
    "rnd.sum()\n",
    "rnd.sum(axis=0) # sum of columns\n",
    "rnd.sum(axis=1) # sum of rows\n",
    "\n",
    "# methods for boolean arrays\n",
    "(rnd > 0).sum() # counts number of positive values\n",
    "(rnd > 0).any() # checks if any value is True\n",
    "(rnd > 0).all() # checks if all values are True\n",
    "\n",
    "# random numbers\n",
    "np.random.seed(12234) # Set the seed\n",
    "np.random.rand(2, 3) # 2 x 3 matrix in [0, 1]\n",
    "np.random.randn(10) # random normals (mean 0, sd 1)\n",
    "np.random.randint(0, 2, 10) # 10 randomly picked 0 or 1"
   ]
  },
  {
   "cell_type": "markdown",
   "id": "fdf80715-a4fe-45f4-9ca0-c5fda7c21e09",
   "metadata": {},
   "source": [
    "### Broadcasting (Kéo dài ngầm định)\n",
    "\n",
    "Chuyển đổi ngầm định để cho phép các phép toán trên các mảng có kích thước khác nhau. \n",
    "- Mảng nhỏ hơn bị kéo dài hoặc \"Broadcasting\" trên mảng lớn hơn để chúng có hình dạng tương thích. \n",
    "- Toán tử thao tác nhanh trên vectơ sử dụng C (nền bên dưới Python) thay vì Python. \n",
    "- Không cần sao chép.\n",
    "\n",
    "```\n",
    "A (2d array): 5 x 4\n",
    "B (1d array): 1\n",
    "Result (2d array): 5 x 4\n",
    "\n",
    "A (2d array): 5 x 4\n",
    "B (1d array): 4\n",
    "Result (2d array): 5 x 4\n",
    "\n",
    "A (3d array): 15 x 3 x 5\n",
    "B (3d array): 15 x 1 x 5\n",
    "Result (3d array): 15 x 3 x 5\n",
    "\n",
    "A (3d array): 15 x 3 x 5\n",
    "B (2d array): 3 x 5\n",
    "Result (3d array): 15 x 3 x 5\n",
    "\n",
    "A (3d array): 15 x 3 x 5\n",
    "B (2d array): 3 x 1\n",
    "Result (3d array): 15 x 3 x 5\n",
    "```\n",
    "\n",
    "![](img2.png)"
   ]
  },
  {
   "cell_type": "code",
   "execution_count": 35,
   "id": "395a5aef-40a6-4fc7-ae13-c0360ebc85af",
   "metadata": {},
   "outputs": [
    {
     "name": "stdout",
     "output_type": "stream",
     "text": [
      "[[ 0  1  2]\n",
      " [10 11 12]\n",
      " [20 21 22]\n",
      " [30 31 32]]\n"
     ]
    }
   ],
   "source": [
    "a = np.array([[ 0, 0, 0],\n",
    "              [10, 10, 10],\n",
    "              [20, 20, 20],\n",
    "              [30, 30, 30]])\n",
    "\n",
    "b = np.array([0, 1, 2])\n",
    "print(a + b)"
   ]
  },
  {
   "cell_type": "code",
   "execution_count": 36,
   "id": "3ce398ab-2dd0-40e9-8a53-53dd090abeb3",
   "metadata": {},
   "outputs": [
    {
     "data": {
      "text/plain": [
       "array([[-15., -15., -15.],\n",
       "       [ -5.,  -5.,  -5.],\n",
       "       [  5.,   5.,   5.],\n",
       "       [ 15.,  15.,  15.]])"
      ]
     },
     "execution_count": 36,
     "metadata": {},
     "output_type": "execute_result"
    }
   ],
   "source": [
    "# Trừ cho giá trị trung bình\n",
    "a - a.mean(axis=0)"
   ]
  },
  {
   "cell_type": "code",
   "execution_count": 37,
   "id": "0f1c3396-100b-4106-b4a0-c273c3673f3d",
   "metadata": {},
   "outputs": [
    {
     "data": {
      "text/plain": [
       "array([[-1.34164079, -1.34164079, -1.34164079],\n",
       "       [-0.4472136 , -0.4472136 , -0.4472136 ],\n",
       "       [ 0.4472136 ,  0.4472136 ,  0.4472136 ],\n",
       "       [ 1.34164079,  1.34164079,  1.34164079]])"
      ]
     },
     "execution_count": 37,
     "metadata": {},
     "output_type": "execute_result"
    }
   ],
   "source": [
    "# Chuẩn hóa bằng trừ mean và chia std\n",
    "(a - a.mean(axis=0)) / a.std(axis=0)"
   ]
  },
  {
   "cell_type": "markdown",
   "id": "a1249179-0b57-4e9b-bf60-49a1b05b4b39",
   "metadata": {},
   "source": [
    "## Matplotlib: thư viện vẽ đồ thị\n",
    "\n",
    "https://matplotlib.org/"
   ]
  },
  {
   "cell_type": "markdown",
   "id": "a737a38f-9ca8-48bf-b9cd-599a17915be5",
   "metadata": {},
   "source": [
    "### Vẽ đường thẳng"
   ]
  },
  {
   "cell_type": "code",
   "execution_count": 38,
   "id": "8cfac3b9-1bee-4ee3-879d-e3e08c01b65a",
   "metadata": {},
   "outputs": [
    {
     "data": {
      "image/png": "[encoded data removed]",
      "text/plain": [
       "<Figure size 640x480 with 1 Axes>"
      ]
     },
     "metadata": {},
     "output_type": "display_data"
    }
   ],
   "source": [
    "# basic line plot\n",
    "import matplotlib.pyplot as plt\n",
    "import numpy\n",
    "\n",
    "# chuẩn bị dữ liệu\n",
    "myarray = numpy.array([1, 2, 3])\n",
    "\n",
    "# vẽ đường thẳng\n",
    "plt.plot(myarray) \n",
    "\n",
    "# tinh chỉnh đồ thị\n",
    "plt.xlabel('some x axis')\n",
    "plt.ylabel('some y axis')\n",
    "\n",
    "# lưu đồ thị\n",
    "plt.savefig(\"plot2d.png\")\n",
    "\n",
    "# hiển thị đồ thị\n",
    "plt.show()"
   ]
  },
  {
   "cell_type": "markdown",
   "id": "71ad5b07-c120-4b2f-8414-c47912614b37",
   "metadata": {},
   "source": [
    "### Vẽ điểm (Scatter Plot)"
   ]
  },
  {
   "cell_type": "code",
   "execution_count": 39,
   "id": "78937a00-f0f8-4d21-a263-c9e8daed5dfc",
   "metadata": {},
   "outputs": [
    {
     "data": {
      "image/png": "[encoded data removed]",
      "text/plain": [
       "<Figure size 640x480 with 1 Axes>"
      ]
     },
     "metadata": {},
     "output_type": "display_data"
    }
   ],
   "source": [
    "# basic scatter plot\n",
    "import matplotlib.pyplot as plt\n",
    "import numpy\n",
    "\n",
    "# chuẩn bị dữ liệu\n",
    "x = numpy.array([1, 2, 3])\n",
    "y = numpy.array([2, 4, 6])\n",
    "\n",
    "# vẽ đồ thị\n",
    "plt.scatter(x,y)\n",
    "\n",
    "# tinh chỉnh đồ thị\n",
    "plt.xlabel('some x axis')\n",
    "plt.ylabel('some y axis')\n",
    "\n",
    "# lưu đồ thị\n",
    "plt.savefig(\"scater2d.png\")\n",
    "\n",
    "# hiển thị đồ thị\n",
    "plt.show()"
   ]
  },
  {
   "cell_type": "markdown",
   "id": "a9e90070-0e03-4ddc-9e3b-22ce11340b21",
   "metadata": {},
   "source": [
    "# KẾT THÚC"
   ]
  }
 ],
 "metadata": {
  "kernelspec": {
   "display_name": "Python 3 (ipykernel)",
   "language": "python",
   "name": "python3"
  },
  "language_info": {
   "codemirror_mode": {
    "name": "ipython",
    "version": 3
   },
   "file_extension": ".py",
   "mimetype": "text/x-python",
   "name": "python",
   "nbconvert_exporter": "python",
   "pygments_lexer": "ipython3",
   "version": "3.13.5"
  }
 },
 "nbformat": 4,
 "nbformat_minor": 5
}
