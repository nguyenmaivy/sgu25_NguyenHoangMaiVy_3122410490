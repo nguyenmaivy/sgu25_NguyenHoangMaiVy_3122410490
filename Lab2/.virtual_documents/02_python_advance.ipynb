








import os
import tempfile


# Lấy thư mục hiện tại đang làm việc
cwd = os.getcwd()
print(cwd)

# Thay đổi thư mục hiện tại đang làm việc
os.chdir(cwd)


# Lấy thư mục tạm của hệ thống
tmpdir = tempfile.gettempdir()
print(tmpdir)

# Nối các đường dẫn thư mục
mytmpdir = os.path.join(tmpdir, "foobar")
print(mytmpdir)


# Tạo một đường dẫn thư mục {tmpdir}/foobar/plop/toto (sẽ tạo luôn thư mục trung gian nếu chưa có)
os.makedirs(os.path.join(tmpdir, "foobar", "plop", "toto"), exist_ok=True)

# liệt kê nội dung thư mục
print(mytmpdir)
os.listdir(mytmpdir)





# Tạo đường dẫn tới tập tin {mytmpdir}/myfile.txt
filename = os.path.join(mytmpdir, "myfile.txt")
print(filename)

# Ghi nội dung tập tin theo từng dòng
lines = ["Dans python tout est bon", "Enfin, presque"]
fd = open(filename, "w") # Mở tập tin
fd.write(lines[0] + "\n") # Ghi nội dung
fd.write(lines[1]+ "\n")
fd.close() # Đóng tập tin

# Đọc nội dung tập tin
f = open(filename, "r") # Mở tập tin để đọc
f.readline() # Đọc dòng đầu (bao gồm dấu xuống dòng)
f.readline() # Đọc dòng kế
f.close()

# Đọc tất cả dòng trong tập tin
f = open(filename, 'r')
f.readlines() # Đọc tất cả dòng, trả về một list chứa tất cả các dòng
f.close()

# Sử dụng đối tượng context để tự động đóng tập tin
with open(filename, 'r') as f:
    lines = [line for line in f]





# Duyệt nội dung một thư mục (đệ quy)

folder = os.path.join(tmpdir, "foobar")

for dirpath, dirnames, filenames in os.walk(folder):
    print(f"+ Thư mục đang duyệt: {dirpath}")
    print(f"  - Các thư mục con: {dirnames}")
    print(f"  - Các tập tin bên trong: {filenames}")





import tempfile
import glob

tmpdir = tempfile.gettempdir()

# Tìm tất cả tập tin có dạng đường dẫn {tmpdir}/*/*.txt
filenames = glob.glob(os.path.join(tmpdir, "*", "*.txt"))
print(filenames)


# lấy thông tin tập tin
filepath = filenames[0]
print(f"File Path: {filepath}")

dirname, filename = os.path.split(filepath)
print(f"Directory: {dirname} - Filename: {filename}")

basename, extfile = os.path.splitext(filename)
print(f"Basename: {basename} - Extension: {extfile}")





import shutil

src = os.path.join(tmpdir, "foobar", "myfile.txt")
dst = os.path.join(tmpdir, "foobar", "plop", "myfile.txt")
print("copy %s to %s" % (src, dst))

# Sao chép tập tin
shutil.copy(src, dst)

# Kiểm tra sự tồn tại
print("File %s exists ?" % dst, os.path.exists(dst))

src = os.path.join(tmpdir, "foobar", "plop")
dst = os.path.join(tmpdir, "plop2")

print("copy tree %s under %s" % (src, dst))

# Sao chép, xóa, di chuyển thư mục
try:
    shutil.copytree(src, dst)
    shutil.rmtree(dst)
    shutil.move(src, dst)
except (FileExistsError, FileNotFoundError) as e:
    pass





import math

# Xây dựng đối tượng cha
class Shape2D:
    def area(self): # Có 1 hàm dùng chung area
        raise NotImplementedError()

# Inheritance + Encapsulation (Kế thừa và tính bao gộp)
class Square(Shape2D): # Kế thừa từ Shape2D
    def __init__(self, width): # Khai báo hàm tạo
        self.width = width
    
    def area(self): # Tính đa hình, override lại area của Lớp Shape2D
        return self.width ** 2

class Disk(Shape2D):
    def __init__(self, radius): # Hàm tạo
        self.radius = radius
    
    def area(self): # Tính đa hình, override lại area của Lớp Shape2D
        return math.pi * self.radius ** 2

shapes = [Square(2), Disk(3)]

# Polymorphism (Tính đa hình
print([s.area() for s in shapes]) # sẽ gọi phương thức area của lớp tương ứng (Square, Disk)
s = Shape2D()
try:
    s.area() 
except NotImplementedError as e:
    print("NotImplementedError", e)








from __future__ import print_function
import numpy as np





# Tạo mảng
data1 = [1, 2, 3, 4, 5]            # cho danh sách
arr1 = np.array(data1)             # tạo mảng từ danh sách
print(f"arr1: {type(arr1)}\n{arr1}\n")

data2 = [range(1, 5), range(5, 9)] # cho danh sách các mảng
arr2 = np.array(data2)             # tạo mảng 2 chiều
print(f"arr2: {type(arr2)}\n{arr2}\n")

lst = arr2.tolist()                      # chuyển đổi trở lại danh sách
print(f'List: {type(lst)} {lst}')





np.zeros(10)           # Mảng 1 chiều có 10 phần tử  với giá trị 0
np.zeros((3, 6))       # Mảng 2 chiều (3 dòng, 6 cột) với giá trị 0
np.ones(10)            # Mảng 10 phần tử giá trị 1
np.linspace(0, 1, 5)   # 0 to 1 (inclusive) with 5 points
np.logspace(0, 3, 4)   # 10^0 to 10^3 (inclusive) with 4 points


int_array = np.arange(5)  # Tạo mảng chứa giá trị từ [0, 1, 2, ..., 4]
float_array = int_array.astype(float) # Ép sang mảng có kiểu số thực
print(float_array)





arr1.dtype          # kiểm tra kiểu: float64
arr2.ndim           # kiểm tra số chiều: 2
arr2.shape          # kiểm tra hình dáng mảng: 2 chiều (2,4) với 2 dòng 4 cột
arr2.size           # tổng số phần tử trong mảng: 8
len(arr2)           # độ dài của chiều đầu tiên: 2





arr = np.arange(10, dtype=float) # Tạo mảng số thực từ [0, 1, ..., 9] shape (10,) 
print(arr)
arr = arr.reshape((2, 5)) # chuyển thành shape (2,5)
print(arr.shape)
print(arr)


# Thêm một chiều mới
a = np.array([0, 1])
print("Before: ", a, " - Shape=", a.shape)
a_col = a[:, np.newaxis] 
# hoặc 
a_col = a[:, None]
print("After: Shape=", a_col.shape, "\n", a_col)

# Đảo mảng (Transpose)
print("Transpose: Shape=", a_col.T.shape, " - ", a_col.T)


# Flatten trả về phiên bản sao chép của mảng ban đầu với 1 chiều
arr_flt = arr.flatten()
arr_flt[0] = 33
print(arr_flt)
print(arr)


# Trả về một view của mảng ban đầu với 1 chiều
arr_flt = arr.ravel()
arr_flt[0] = 33
print(arr_flt)
print(arr)








# Khai báo mảng [0, 1, ..., 2 * 3 * 4)
x = np.arange(2 * 3 * 4)
print(f"x: {x.shape} - {x}")

x = x.reshape(2, 3, 4)
print(f'x: {x.shape}\n{x}')


# Chọn các phần tử ở vị trí 0 trên axis 0 (mặt đầu tiên)
print(x[0, :, :])


# Chọn các phần tử ở vị trí 0 trên axis 1 (dòng đầu tiên)
print(x[:, 0, :])


# Chọn các phần tử ở vị trí 0 trên axis 2 (cột đầu tiên)
print(x[:, :, 0])





a = np.array([0, 1])
b = np.array([2, 3])
print(f'a: {a}')
print(f'b: {b}')


# Horizontal stacking
np.hstack([a, b])


# Vertical stacking
np.vstack([a, b])





# Một phần tử
arr = np.arange(10, dtype=float).reshape((2, 5))
print(arr)
print(arr[0])    # các phẩn tử ở dòng 0 (trảslices like a list)
print(arr[0, 3]) # dòng 0, cột 3 --> 3
print(arr[0][3])  # hay cách khác


# Slicing
# Cú pháp: start:stop:step with start (default 0) stop (default last) step (default 1)
arr[0, :]          # dòng 0 --> 1d array ([1, 2, 3, 4])
arr[:, 0]          # cột  0 --> 1d array ([1, 5])
arr[:, :2]         # các cột trước vị trí 2 (2 cột đầu tiên)
arr[:, 2:]         # các cột từ vị trí 2 trở đi
arr2 = arr[:, 1:4] # các cột từ 1 đến dưới 4 (1, 2, 3)
print(arr2)


# Hiệu chỉnh một phần tử (Slicing trả về 1 view nên có thê hiệu chỉnh)
arr2[0, 0] = 33
print(arr2)
print(arr)


# Đảo chiều của dòng 0
print(arr[0, ::-1])


# Fancy indexing: Integer or boolean array indexing
# Trả về một sao chép dựa trên mặt nạ int hay bool
arr2 = arr[:, [1, 2, 3]] # trả về một sao chép (các phần tử ở cột 1, 2, 3)
print(arr2)
arr2[0, 0] = 44
print(arr2)
print(arr)


# Boolean arrays indexing
b_filter = arr > 5
print(f"Bool Index: \n{b_filter}")

arr2 = arr[b_filter]  # return a copy (các phần tử có giá trị lớn hơn 5
print(f"arr2: \n{arr2}")

arr2[0] = 44
print(f"arr2: \n{arr2}")
print(f"arr: \n{arr}")


names = np.array(['Bob', 'Joe', 'Will', 'Bob'])

b_filter = names == 'Bob'  # Tạo Bool Index
print(f"Bool Index: \n{b_filter}")

arr1 = names[names != 'Bob']  # lấy phần tử dựa trên Bool Index
print(f"arr1: \n{arr1}")

b_filter1 = (names == 'Bob') | (names == 'Will') # dùng toán tử or
print(f"Bool Index 1: \n{b_filter1}")

names[names != 'Bob'] = 'Joe' # Thay đổi nội dung dựa vào Bool Index
print(f"names: \n{names}")

arr2 = np.unique(names)
print(f"unique: \n{arr2}")





nums = np.arange(5)
nums * 10                       # phép nhân từng phần tử 
nums = np.sqrt(nums)            # lấy bình phương từng phần tử
np.ceil(nums)                   # also floor, rint (round to nearest int)
np.isnan(nums)                  # checks for NaN
nums + np.arange(5)             # add element-wise
np.maximum(nums, np.array([1, -2, 3, -4, 5])) # compare element-wise

# Compute Euclidean distance between 2 vectors
vec1 = np.random.randn(10)
vec2 = np.random.randn(10)
dist = np.sqrt(np.sum((vec1 - vec2) ** 2))

# math and stats
rnd = np.random.randn(4, 2) # random normals in 4x2 array
rnd.mean()
rnd.std()
rnd.argmin() # index of minimum element
rnd.sum()
rnd.sum(axis=0) # sum of columns
rnd.sum(axis=1) # sum of rows

# methods for boolean arrays
(rnd > 0).sum() # counts number of positive values
(rnd > 0).any() # checks if any value is True
(rnd > 0).all() # checks if all values are True

# random numbers
np.random.seed(12234) # Set the seed
np.random.rand(2, 3) # 2 x 3 matrix in [0, 1]
np.random.randn(10) # random normals (mean 0, sd 1)
np.random.randint(0, 2, 10) # 10 randomly picked 0 or 1





a = np.array([[ 0, 0, 0],
              [10, 10, 10],
              [20, 20, 20],
              [30, 30, 30]])

b = np.array([0, 1, 2])
print(a + b)


# Trừ cho giá trị trung bình
a - a.mean(axis=0)


# Chuẩn hóa bằng trừ mean và chia std
(a - a.mean(axis=0)) / a.std(axis=0)








# basic line plot
import matplotlib.pyplot as plt
import numpy

# chuẩn bị dữ liệu
myarray = numpy.array([1, 2, 3])

# vẽ đường thẳng
plt.plot(myarray) 

# tinh chỉnh đồ thị
plt.xlabel('some x axis')
plt.ylabel('some y axis')

# lưu đồ thị
plt.savefig("plot2d.png")

# hiển thị đồ thị
plt.show()





# basic scatter plot
import matplotlib.pyplot as plt
import numpy

# chuẩn bị dữ liệu
x = numpy.array([1, 2, 3])
y = numpy.array([2, 4, 6])

# vẽ đồ thị
plt.scatter(x,y)

# tinh chỉnh đồ thị
plt.xlabel('some x axis')
plt.ylabel('some y axis')

# lưu đồ thị
plt.savefig("scater2d.png")

# hiển thị đồ thị
plt.show()



