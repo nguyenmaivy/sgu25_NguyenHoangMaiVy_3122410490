{
 "cells": [
  {
   "cell_type": "markdown",
   "id": "f47c8d43",
   "metadata": {},
   "source": [
    "# “Thuc hanh tri tue nhan tao Buoi 1”\n",
    "## “Noi dung thuc hanh”"
   ]
  },
  {
   "cell_type": "markdown",
   "id": "cf837a71",
   "metadata": {},
   "source": [
    "### In chu ra man hinh"
   ]
  },
  {
   "cell_type": "code",
   "execution_count": 2,
   "id": "6775cabb",
   "metadata": {},
   "outputs": [
    {
     "name": "stdout",
     "output_type": "stream",
     "text": [
      "Hello, Python World!\n"
     ]
    }
   ],
   "source": [
    "# lenh 1 - xuat chu\n",
    "print(\"Hello, Python World!\")"
   ]
  },
  {
   "cell_type": "markdown",
   "id": "56403663",
   "metadata": {},
   "source": [
    "### Tính toán đơn giản"
   ]
  },
  {
   "cell_type": "code",
   "execution_count": 3,
   "id": "68e2aaf9",
   "metadata": {},
   "outputs": [
    {
     "name": "stdout",
     "output_type": "stream",
     "text": [
      " Volume in drive D is DATA\n",
      " Volume Serial Number is D8E6-D225\n",
      "\n",
      " Directory of d:\\ai_practice_prj\\lesson1\n",
      "\n",
      "09/07/2025  06:10 PM    <DIR>          .\n",
      "09/07/2025  03:43 PM    <DIR>          ..\n",
      "09/07/2025  06:11 PM               153 ex1_calc.py\n",
      "09/07/2025  08:21 PM             1,835 my_lesson1.ipynb\n",
      "               2 File(s)          1,988 bytes\n",
      "               2 Dir(s)  127,530,246,144 bytes free\n"
     ]
    }
   ],
   "source": [
    "!dir"
   ]
  },
  {
   "cell_type": "code",
   "execution_count": 1,
   "id": "14926c65",
   "metadata": {},
   "outputs": [
    {
     "name": "stdout",
     "output_type": "stream",
     "text": [
      "Calculator Basic\n"
     ]
    },
    {
     "name": "stdin",
     "output_type": "stream",
     "text": [
      "Moi ban nhap so a:  10\n",
      "Moi ban nhap so b:  -5\n"
     ]
    },
    {
     "name": "stdout",
     "output_type": "stream",
     "text": [
      "c = 10 + -5 = 5\n"
     ]
    }
   ],
   "source": [
    "%run ex1_calc.py"
   ]
  },
  {
   "cell_type": "code",
   "execution_count": 2,
   "id": "d19f4a68",
   "metadata": {},
   "outputs": [
    {
     "name": "stdout",
     "output_type": "stream",
     "text": [
      "Calculator Basic\n"
     ]
    },
    {
     "name": "stdin",
     "output_type": "stream",
     "text": [
      "Moi ban nhap so a:  10\n",
      "Moi ban nhap so b:  20\n"
     ]
    },
    {
     "name": "stdout",
     "output_type": "stream",
     "text": [
      "c = 10 + 20 = 30\n"
     ]
    }
   ],
   "source": [
    "print(\"Calculator Basic\")\n",
    "a = int(input(\"Moi ban nhap so a: \"))\n",
    "b = int(input(\"Moi ban nhap so b: \"))\n",
    "c = a + b\n",
    "print(\"c = %d + %d = %d\" % (a, b, c))"
   ]
  },
  {
   "cell_type": "code",
   "execution_count": 3,
   "id": "8edbd98e-a6c5-4b9e-badc-eda722dd355b",
   "metadata": {},
   "outputs": [
    {
     "name": "stdout",
     "output_type": "stream",
     "text": [
      "Tính chu vi và diện tích hình tròn\n"
     ]
    },
    {
     "name": "stdin",
     "output_type": "stream",
     "text": [
      "Nhập bán kính r:  20\n"
     ]
    },
    {
     "name": "stdout",
     "output_type": "stream",
     "text": [
      "cv = 2π*20.0 = 125.66, dt = π*20.0^2 = 1256.64\n"
     ]
    }
   ],
   "source": [
    "import numpy as np\n",
    "print(\"Tính chu vi và diện tích hình tròn\")\n",
    "r = float(input(\"Nhập bán kính r: \"))\n",
    "cv = 2 * np.pi * r\n",
    "dt = np.pi * r ** 2\n",
    "print(f\"cv = 2\\u03C0*{r} = {cv:.2f}, dt = \\u03C0*{r}^2 = {dt:.2f}\")\n"
   ]
  },
  {
   "cell_type": "code",
   "execution_count": 4,
   "id": "15484a6c-d071-4bcd-84e9-ed52b5839c2e",
   "metadata": {},
   "outputs": [
    {
     "name": "stdout",
     "output_type": "stream",
     "text": [
      " Volume in drive D is DATA\n",
      " Volume Serial Number is D8E6-D225\n",
      "\n",
      " Directory of D:\\ai_practice_prj\\lesson1\n",
      "\n",
      "09/07/2025  10:22 PM    <DIR>          .\n",
      "09/07/2025  10:07 PM    <DIR>          ..\n",
      "09/07/2025  10:07 PM    <DIR>          .ipynb_checkpoints\n",
      "09/07/2025  06:11 PM               153 ex1_calc.py\n",
      "09/07/2025  10:30 PM               219 ex3_circle.py\n",
      "09/07/2025  09:48 PM            34,886 ex4_scientific2.ipynb\n",
      "09/07/2025  10:05 PM             3,403 my_lesson1.ipynb\n",
      "               4 File(s)         38,661 bytes\n",
      "               3 Dir(s)  127,527,608,320 bytes free\n"
     ]
    }
   ],
   "source": [
    "!dir"
   ]
  },
  {
   "cell_type": "code",
   "execution_count": 5,
   "id": "1544a5d8-0e84-451a-a21d-105f5cf48977",
   "metadata": {},
   "outputs": [
    {
     "name": "stdout",
     "output_type": "stream",
     "text": [
      "Tính chu vi và diện tích hình tròn\n"
     ]
    },
    {
     "name": "stdin",
     "output_type": "stream",
     "text": [
      "Nhập bán kính r:  2.3\n"
     ]
    },
    {
     "name": "stdout",
     "output_type": "stream",
     "text": [
      "cv = 2π*2.3 = 14.45, dt = π*2.3^2 = 16.62\n"
     ]
    }
   ],
   "source": [
    "%run ex3_circle.py"
   ]
  },
  {
   "cell_type": "code",
   "execution_count": null,
   "id": "a1196e5b-a897-4037-8c8b-f0850efa77d6",
   "metadata": {},
   "outputs": [],
   "source": []
  }
 ],
 "metadata": {
  "kernelspec": {
   "display_name": "Python 3 (ipykernel)",
   "language": "python",
   "name": "python3"
  },
  "language_info": {
   "codemirror_mode": {
    "name": "ipython",
    "version": 3
   },
   "file_extension": ".py",
   "mimetype": "text/x-python",
   "name": "python",
   "nbconvert_exporter": "python",
   "pygments_lexer": "ipython3",
   "version": "3.13.5"
  }
 },
 "nbformat": 4,
 "nbformat_minor": 5
}
