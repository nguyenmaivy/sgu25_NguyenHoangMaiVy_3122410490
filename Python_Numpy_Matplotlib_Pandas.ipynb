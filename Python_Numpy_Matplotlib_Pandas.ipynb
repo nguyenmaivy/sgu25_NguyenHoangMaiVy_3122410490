{
 "cells": [
  {
   "cell_type": "markdown",
   "id": "ef94126e",
   "metadata": {},
   "source": [
    "# Python cơ bản, Numpy, Matplotlib, Pandas\n",
    "\n",
    "---\n",
    "## 1. Giới thiệu Python\n",
    "- Python ra đời năm 1989 bởi Guido van Rossum.  \n",
    "- Là ngôn ngữ thông dịch, dễ đọc, dễ viết.  \n",
    "- Hỗ trợ đa nền tảng, mã nguồn mở, cộng đồng lớn.  \n",
    "\n",
    "### Ưu điểm\n",
    "- Cú pháp ngắn gọn, dễ học.  \n",
    "- Nhiều thư viện mạnh mẽ.  \n",
    "- Chạy trên nhiều hệ điều hành.  \n",
    "\n",
    "### Nhược điểm\n",
    "- Tốc độ chậm hơn C/C++.  \n",
    "- Hạn chế khi làm mobile app."
   ]
  },
  {
   "cell_type": "code",
   "execution_count": null,
   "id": "a2670d44",
   "metadata": {},
   "outputs": [],
   "source": [
    "# Ví dụ Python: nhập và xuất dữ liệu\n",
    "name = input(\"What's your name? \")\n",
    "print(\"Nice to meet you\", name)\n",
    "\n",
    "age = int(input(\"Your age? \"))\n",
    "print(\"You are already\", age, \"years old.\")\n"
   ]
  },
  {
   "cell_type": "markdown",
   "id": "539341c5",
   "metadata": {},
   "source": [
    "## 2. Numpy cơ bản\n",
    "\n",
    "### Tạo mảng\n",
    "- np.array()\n",
    "- np.zeros()\n",
    "- np.ones()\n",
    "- np.full()\n",
    "- np.eye()\n",
    "- np.random.random()"
   ]
  },
  {
   "cell_type": "code",
   "execution_count": null,
   "id": "e61bfcec",
   "metadata": {},
   "outputs": [],
   "source": [
    "import numpy as np\n",
    "\n",
    "a = np.zeros((2,2))\n",
    "b = np.ones((1,2))\n",
    "c = np.full((2,2), 7)\n",
    "d = np.eye(2)\n",
    "e = np.random.random((2,2))\n",
    "\n",
    "print(\"----- Mảng toàn số 0 -----\\n\", a, \"\\n\")\n",
    "print(\"----- Mảng toàn số 1 -----\\n\", b, \"\\n\")\n",
    "print(\"----- Mảng giá trị 7 -----\\n\", c, \"\\n\")\n",
    "print(\"----- Ma trận đơn vị -----\\n\", d, \"\\n\")\n",
    "print(\"----- Mảng ngẫu nhiên -----\\n\", e, \"\\n\")\n"
   ]
  },
  {
   "cell_type": "markdown",
   "id": "f6e18164",
   "metadata": {},
   "source": [
    "## 3. Matplotlib\n",
    "\n",
    "Ví dụ vẽ biểu đồ hàm số $y = x^2$"
   ]
  },
  {
   "cell_type": "code",
   "execution_count": null,
   "id": "c8da40ea",
   "metadata": {},
   "outputs": [],
   "source": [
    "import numpy as np\n",
    "import matplotlib.pyplot as plt\n",
    "\n",
    "x = np.linspace(-20, 20, 1000)\n",
    "y = x * x\n",
    "\n",
    "plt.plot(x, y)\n",
    "plt.title(\"Đồ thị y = x^2\")\n",
    "plt.xlabel(\"x\")\n",
    "plt.ylabel(\"y\")\n",
    "plt.show()\n"
   ]
  },
  {
   "cell_type": "markdown",
   "id": "5233b5d2",
   "metadata": {},
   "source": [
    "Ví dụ vẽ đồ thị SIN và COS"
   ]
  },
  {
   "cell_type": "code",
   "execution_count": null,
   "id": "56102f93",
   "metadata": {},
   "outputs": [],
   "source": [
    "x = np.arange(0, 3 * np.pi, 0.1)\n",
    "y_sin = np.sin(x)\n",
    "y_cos = np.cos(x)\n",
    "\n",
    "plt.plot(x, y_sin)\n",
    "plt.plot(x, y_cos)\n",
    "plt.xlabel('Trục X')\n",
    "plt.ylabel('Trục Y')\n",
    "plt.title('Hàm SIN và COS trong khoảng [0, 3π]')\n",
    "plt.legend(['SIN(x)', 'COS(x)'])\n",
    "plt.show()\n"
   ]
  },
  {
   "cell_type": "markdown",
   "id": "f24f0e26",
   "metadata": {},
   "source": [
    "## 4. Pandas\n",
    "\n",
    "Ví dụ đọc dữ liệu từ CSV và hiển thị"
   ]
  },
  {
   "cell_type": "code",
   "execution_count": null,
   "id": "946ecbc8",
   "metadata": {},
   "outputs": [],
   "source": [
    "import pandas as pd\n",
    "\n",
    "# Tạo DataFrame từ dictionary\n",
    "data = {\n",
    "    'Tên': ['An', 'Bình', 'Chi'],\n",
    "    'Tuổi': [20, 21, 19],\n",
    "    'Điểm': [8.5, 7.0, 9.0]\n",
    "}\n",
    "df = pd.DataFrame(data)\n",
    "\n",
    "print(\"----- DataFrame -----\")\n",
    "print(df)\n",
    "\n",
    "# Tính trung bình điểm\n",
    "print(\"\\nĐiểm trung bình:\", df['Điểm'].mean())\n"
   ]
  }
 ],
 "metadata": {
  "kernelspec": {
   "display_name": "base",
   "language": "python",
   "name": "python3"
  },
  "language_info": {
   "codemirror_mode": {
    "name": "ipython",
    "version": 3
   },
   "file_extension": ".py",
   "mimetype": "text/x-python",
   "name": "python",
   "nbconvert_exporter": "python",
   "pygments_lexer": "ipython3",
   "version": "3.13.5"
  }
 },
 "nbformat": 4,
 "nbformat_minor": 5
}
