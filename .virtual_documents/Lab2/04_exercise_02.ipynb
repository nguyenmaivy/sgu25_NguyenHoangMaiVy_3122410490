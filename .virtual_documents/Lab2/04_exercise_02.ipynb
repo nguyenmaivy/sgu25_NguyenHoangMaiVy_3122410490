











import numpy as np # Khai báo thư viện numpy

print("1. Tạo một dãy số a có N phần tử (N = 10)")
""" CÁC BẠN LÀM BÀI Ở ĐÂY """
# ...

print("Day so a: ", a)





print("2. Các thao tác tính toán đơn giản với dãy số a")
""" CÁC BẠN LÀM BÀI Ở ĐÂY """
# ...

print("a. Binh phuong a: ", a2)
print("\nb. Do dai a: ", na)

""" CÁC BẠN LÀM BÀI Ở ĐÂY """
# ...

print(f'\nc. Gia tri lon nhat: [{v_max}], gia tri nho nhat: [{v_min}], gia tri trung binh [{v_avg}]')

""" CÁC BẠN LÀM BÀI Ở ĐÂY """
# ...

print(f'\nd. Phuong sai: [{v_sigma2: .2f}] va do lech chuan: [{v_var: .2f}]')





print("3. Xử lý khác trên dãy số")
""" CÁC BẠN LÀM BÀI Ở ĐÂY """
# ...

print(f'a. Day so x: {x}')


""" CÁC BẠN LÀM BÀI Ở ĐÂY """
# ...

print( "b. Cac phan tu chan trong day a, b: ")
print(f"+ Day a: {a}")
print(f"  - Loc chan: {a_la_chan}")
print(f"  - Day chua phan tu chan trong a: {a_chan}, so luong {n_a_chan} phan tu.")
print(f"+ Day x: {x}")
print(f"  - Loc chan: {x_la_chan}")
print(f"  - Day chua phan tu chan trong a: {x_chan}, so luong {n_x_chan} phan tu.")


""" CÁC BẠN LÀM BÀI Ở ĐÂY """
# ...

print( "c.Tính hiệu các phần tử ở vị trí lẻ của mảng a và x: ")
print(f"+ Vi tri le trong a va x: {v_le}")
print(f"+ Day so a: {a} va cac so o vi tri le: {a_le}")
print(f"+ Day so x: {x} va cac so o vi tri le: {x_le}")
print(f"+ Hieu cua a va x o vi tri le: {hieu_le}")
print(f"+ Khoang cach cac phan tu cua a va x o vi tri le: {kc_le: .2f}")


print("d. Tìm khoảng cách nhỏ nhất giữa tập a và x. Ví dụ: min({1, 3, 5}, {2, 10, 8}} = 1")
"""
Gợi ý: Áp dụng toán tử broatcasting
[[1],                    [[1, 1, 1],        [[2, 10, 8],    =   [[-1, -9, -7],
 [3],   - [2, 10, 8] =    [3, 3, 3],   -     [2, 10, 8],         [ 1, -7, -5],  --> np.min(np.abs(...)) = 1
 [5]]                     [5, 5, 5]]         [2, 10, 8]]         [ 3, -5, -3]]
"""
""" CÁC BẠN LÀM BÀI Ở ĐÂY """
# Tăng số chiều dùng tại vị trí chiều cuối dùng np.newaxis như sau: a[:, np.newaxis]
# ...

print(f"+ Day a: {a}")
print(f"+ Day x: {x}")
print(f"+ Khoang cach nho nhat: {v_min}")





import matplotlib.pyplot as plt  # Khai báo thư viện pyplot trong matplotlib

""" CÁC BẠN LÀM BÀI Ở ĐÂY """
# Sử dụng hàm np.random.randint để sinh dãy số ngẫu nhiên
# Sử dụng hàm np.unique để trả về tần số xuất hiện
# ...

print("a. Sinh ngẫu nhiên theo phân bố đều")
print(f"+ Gia tri: {value}")
print(f"+ So lan xuat hien: {cnt}")
print("+ Do thi ham so xuat hien")
plt.figure(figsize=(6,6))      #  kich thuoc ban ve
plt.bar(value, cnt)            #  ve cac khoi chu nhat theo day x, y
plt.xlim(0, 11)                #  gioi han truc x
plt.ylim(0, np.max(cnt) + 10)  #  gioi han truc y
plt.savefig("4a.png")          #  luu do thi
plt.show()                     #  hien thi do thi


""" CÁC BẠN LÀM BÀI Ở ĐÂY """
# Sử dụm hàm np.random.rand() sinh số ngẫu nhiên trong [0,1) --> [0,1) * (b - a) + a --> [a, b)
# Sử dụng hàm sau để tính hàm xác suất chuẩn N(m, s): np.sqrt, np.exp
# ...

print("b. Sinh cặp (x, y) với y làm hàm phân phối chuẩn")
print(f"+ x: {x_min} <= min [{np.min(x): .2f}] <= max [{np.max(x): .2f}] <= {x_max}")
print(f"+ Ve ham so y(x)")
plt.figure(figsize=(6,6))      # kich thuoc ban ve
plt.scatter(x, y)              # ve cac diem (xi, yi)
plt.savefig("4b.png")          #  luu do thi
plt.show()                     #  hien thi do thi


""" CÁC BẠN LÀM BÀI Ở ĐÂY """
# Sử dụng hàm np.random.randn() sinh phân phối chuẩn N(0,1) --> N(m,s^2) = m + N(0,1) * s
# Sử dụng hàm np.histogram với density=True để thống kê số lần xuất hiện với số bins = 300 (do dãy số thực)
# ...

print( "c. Sinh day so theo phan phoi chuan")
print(f"+ x: len = {len(x)}, min [{np.min(x)}], max [{np.max(x)}]")
print(f"+ Mat so xac suat cua day so x")
plt.figure(figsize=(6,6))      # kich thuoc ban ve
plt.xlim(np.min(val), np.max(val))
plt.scatter(val, cnt)
plt.show()








# a = np.random.randint(100, 200, (6, 4))
""" CÁC BẠN LÀM BÀI Ở ĐÂY """
# ...

print("Ma trận a: \n", a)





""" CÁC BẠN LÀM BÀI Ở ĐÂY """
# ...

print(f"a. In ra ma trận chuyển vị: \n{a_t}")
print(f"\nb. In ra phần tử ở vị trí dòng 2 cột 3: {v_23}")
print(f"\nc. Trích xuất các dòng: ")
print(f"   + Dòng đầu : {d_0}")
print(f"   + Dòng cuối: {d_last}")
print(f"   + Dòng hai : {d_2}")
print(f"\nd. Trích xuất các cột: ")
print(f"   + Cột kế cuối: {c_l1}")
print(f"   + Cột đầu: {c_0}")
print(f"\ne. Đảo các giá trị trên từng cột: \n {dao_cot}")
print(f"\nf. Phép tính theo trục:")
print(f"   + Tổng dòng: {tong_dong}")
print(f"   + Trung bình cột: {tb_cot}")





""" CÁC BẠN LÀM BÀI Ở ĐÂY """
# ...

print("a. Tạo hai ma trận A và B có 4 dòng x 3 cột và X có 3 dòng x 4 cột")
print(f"+ Ma tran A: \n{A}")
print(f"+ Ma tran B: \n{B}")
print(f"+ Ma tran X: \n{X}")

print("\nb. Tính tổng, hiệu, tích của từng phần tử trên hai ma trận A và B")
print(f"A + B = \n{AB_add}")
print(f"A - B = \n{AB_sub}")
print(f"A . B = \n{AB_mul}")

print("\nc. Tính phép nhân ma trận Y = A x X")
print(f"Y = A x X --> shape A ({A.shape}) x shape X ({X.shape}) = shape Y ({Y.shape}) \n{Y}")





""" CÁC BẠN LÀM BÀI Ở ĐÂY """
# ...

print(f"+ Ma tran A: \n{A}")
print(f"+ Vector y: {y}")
print(f"+ Nghiem x: {x}")
print(f"+ Kiem tra: yy = Ax = {yy} ==> ||yy -y ||_2 = {diff: .2f}")








import matplotlib.pyplot as plt # khai báo thư viện vẽ pyplot
import math

circle = plt.Circle((0, 0), 1, color='g') # tạo đối tượng vòng tròn

fig, ax = plt.subplots(figsize=(6, 6)) # lấy figure và vùng vẽ

plt.plot(0, 0, 'o', color=(0.9, 0.9, 1.0), alpha=0.8) # vẽ điểm tại tâm (0,0)
ax.add_patch(circle) # thêm vòng tròn vào vùng vẽ

x = 0.75; y = math.sqrt(1 - (x ** 2)) # (x = 0.75, y = căn bậc 2 của 1 - x^2)
plt.arrow(0, 0, x, y)

plt.xlim(-1, 1) # giới hạn trục x
plt.ylim(-1, 1) # giới hạn trục y

plt.savefig('pi.png') # lưu đồ thị xuống tập tin
plt.show()            # hiển thị đồ thị


import numpy as np

def calc_pi_monte_carlo(n = 100):
    pi = 0
    
    # gợi ý: sử dụng np.random.rand(s1, s2, ...) --> sinh ngẫu nhiên các số trong nửa đoạn [0.0, 1.0)
    """ CÁC BẠN LÀM BÀI Ở ĐÂY """    
    # ...
    
    return pi
# calc_pi_monte_carlo


import math

print("epsilon(n=100): ", calc_pi_monte_carlo(n = 100) - math.pi)
print("epsilon(n=100): ", calc_pi_monte_carlo(n = 100) - math.pi)
print("epsilon(n=10000): ", calc_pi_monte_carlo(n = 10000) - math.pi)
print("epsilon(n=10000): ", calc_pi_monte_carlo(n = 10000) - math.pi)
print("epsilon(n=1000000): ", calc_pi_monte_carlo(n = 1000000) - math.pi)
print("epsilon(n=1000000): ", calc_pi_monte_carlo(n = 1000000) - math.pi)
